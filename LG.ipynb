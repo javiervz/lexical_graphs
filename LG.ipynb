{
 "cells": [
  {
   "cell_type": "markdown",
   "metadata": {},
   "source": [
    "# Lexical graphs"
   ]
  },
  {
   "cell_type": "markdown",
   "metadata": {},
   "source": [
    "## stop words - Salton (1971)\n",
    "### http://www.lextek.com/manuals/onix/stopwords2.html"
   ]
  },
  {
   "cell_type": "code",
   "execution_count": 1,
   "metadata": {},
   "outputs": [],
   "source": [
    "data=open('stopwords.txt','r')\n",
    "data_read = data.read()\n",
    "stop_words=data_read.replace('\\n',' ').split()"
   ]
  },
  {
   "cell_type": "markdown",
   "metadata": {},
   "source": [
    "## GLOVE vectors\n",
    "### https://nlp.stanford.edu/projects/glove/"
   ]
  },
  {
   "cell_type": "code",
   "execution_count": 2,
   "metadata": {},
   "outputs": [],
   "source": [
    "import numpy as np\n",
    "\n",
    "vectors = {}\n",
    "f = open('glove.6B.300d.txt')\n",
    "for line in f:\n",
    "    values = line.split()\n",
    "    word = values[0]\n",
    "    coefs = np.asarray(values[1:], dtype='float32')\n",
    "    vectors[word] = coefs\n",
    "f.close()\n"
   ]
  },
  {
   "cell_type": "code",
   "execution_count": 3,
   "metadata": {},
   "outputs": [],
   "source": [
    "import random\n",
    "from nltk import sent_tokenize\n",
    "from nltk.tokenize import RegexpTokenizer\n",
    "\n",
    "tokenizer = RegexpTokenizer(r'\\w+')\n",
    "\n",
    "def glove_text(text):\n",
    "    text=list(set([w.lower() for w in tokenizer.tokenize(text)]))\n",
    "    text=[w for w in text if w not in stop_words]\n",
    "    glove_vectors={}\n",
    "    for w in text:\n",
    "        if w not in vectors.keys():\n",
    "            vector=[1]*300\n",
    "            vector=[x*random.uniform(-1.5,1.5) for x in vector]\n",
    "            vector=np.array(vector)\n",
    "            glove_vectors[w]=vector\n",
    "        else:\n",
    "            glove_vectors[w]=vectors[w]\n",
    "    return glove_vectors\n"
   ]
  },
  {
   "cell_type": "markdown",
   "metadata": {},
   "source": [
    "## Distancias entre palabras y oraciones"
   ]
  },
  {
   "cell_type": "code",
   "execution_count": 4,
   "metadata": {},
   "outputs": [],
   "source": [
    "def simglove(vector_i,vector_j):\n",
    "    return 1-spatial.distance.cosine(vector_i.reshape(1,-1),vector_j.reshape(1,-1))"
   ]
  },
  {
   "cell_type": "code",
   "execution_count": 5,
   "metadata": {},
   "outputs": [],
   "source": [
    "import itertools\n",
    "from scipy import spatial\n",
    "\n",
    "def sent_distance(text,index_sent_i,index_sent_j,threshold): \n",
    "    glove_vectors=glove_text(text)\n",
    "    sentences=sent_tokenize(text)\n",
    "    sent_i=list(set([w.lower() for w in tokenizer.tokenize(sentences[index_sent_i])]))\n",
    "    sent_i=[w for w in sent_i if w not in stop_words]\n",
    "    sent_j=list(set([w.lower() for w in tokenizer.tokenize(sentences[index_sent_j]) if w not in stop_words]))\n",
    "    sent_j=[w for w in sent_j if w not in stop_words]\n",
    "\n",
    "    p=list(itertools.product(sent_i,sent_j))\n",
    "    d=[]\n",
    "    for item in p:\n",
    "        d+=[simglove(glove_vectors[item[0]],glove_vectors[item[1]])]\n",
    "    if len(d)==0:\n",
    "        return -1\n",
    "    else:\n",
    "        if max(d)>=threshold:\n",
    "            return max(d)\n",
    "        else:\n",
    "            return -1\n",
    "        \n",
    "##########################################################################################################################\n",
    "#\n",
    "#import spacy\n",
    "#nlp = spacy.load('en')\n",
    "#\n",
    "#def compound(sentence):\n",
    "#    doc=nlp(sentence)\n",
    "#    index=-1\n",
    "#    for i in range(len(doc)-1):\n",
    "#        if doc[i].pos_=='PROPN' and doc[i+1].pos_:\n",
    "#            index=i\n",
    "#            break\n",
    "#\n",
    "#    if index==-1:\n",
    "#        return sentence\n",
    "#    else:\n",
    "#        sentence=[token.text for token in doc]\n",
    "#        s=[]\n",
    "#        for i in range(len(doc)):\n",
    "#            if i==index:\n",
    "#                compound=sentence[i]+'-'+sentence[i+1]\n",
    "#        for i in [j for j in range(len(doc)) if j!=index+1]:\n",
    "#            if i!=index:\n",
    "#                s+=[sentence[i]]\n",
    "#            else:\n",
    "#                s+=[compound]\n",
    "#                \n",
    "#    return ' '.join(s)\n",
    "#\n",
    "#def sent_distance_pos(text,index_sent_i,index_sent_j,threshold): \n",
    "#    glove_vectors=glove_text(text)\n",
    "#    sentences=sent_tokenize(text)\n",
    "#    sentences=[' '.join([token.text for token in nlp(s) if token.pos_=='PROPN' or token.pos_=='NOUN' or token.pos_=='ADJ']) for s in sentences]\n",
    "#    sent_i=list(set([w.lower() for w in tokenizer.tokenize(sentences[index_sent_i])]))\n",
    "#    sent_i=[w for w in sent_i if w not in stop_words]\n",
    "#    sent_j=list(set([w.lower() for w in tokenizer.tokenize(sentences[index_sent_j]) if w not in stop_words]))\n",
    "#    sent_j=[w for w in sent_j if w not in stop_words]\n",
    "#\n",
    "#    p=list(itertools.product(sent_i,sent_j))\n",
    "#    d=[]\n",
    "#    for item in p:\n",
    "#        d+=[simglove(glove_vectors[item[0]],glove_vectors[item[1]])]\n",
    "#    if len(d)==0:\n",
    "#        return -1\n",
    "#    else:\n",
    "#        if max(d)>=threshold:\n",
    "#            return max(d)\n",
    "#        else:\n",
    "#            return -1\n",
    "#########################################################################################################################    \n"
   ]
  },
  {
   "cell_type": "markdown",
   "metadata": {},
   "source": [
    "## Lexical graph\n",
    "### http://aclweb.org/anthology/N16-1167\n",
    "### http://aclweb.org/anthology/W17-4803"
   ]
  },
  {
   "cell_type": "code",
   "execution_count": 6,
   "metadata": {},
   "outputs": [],
   "source": [
    "import networkx as nx\n",
    "\n",
    "def lexical_graph(text):\n",
    "    sentences=sent_tokenize(text)\n",
    "    G=nx.DiGraph()\n",
    "    for i in range(len(sentences)):\n",
    "        G.add_node(i)\n",
    "    pairs=list(itertools.combinations(range(len(sentences)),2)) ## solo aristas dirigidas en el sentido del texto!\n",
    "    for pair in pairs:\n",
    "        dist=sent_distance(text,pair[0],pair[1],0.85)\n",
    "        if dist!=-1:\n",
    "            G.add_edge(pair[0],pair[1],weight=round(dist,4))\n",
    "    return G"
   ]
  },
  {
   "cell_type": "markdown",
   "metadata": {},
   "source": [
    "## Introducciones revista CELL"
   ]
  },
  {
   "cell_type": "code",
   "execution_count": 7,
   "metadata": {},
   "outputs": [],
   "source": [
    "import ast\n",
    "import re\n",
    "\n",
    "data = open('corpus_cell.json','r')\n",
    "data_cell=data.read()\n",
    "data_cell = ast.literal_eval(data_cell)\n",
    "introductions=[' '.join(item['introduction']) for item in data_cell]\n",
    "introductions=[re.sub(\"[\\(\\[].*?[\\)\\]]\", \"\", item) for item in introductions]\n",
    "introductions=[x for x in introductions if len(x)>0]\n",
    "introductions=[' '.join([s for s in sent_tokenize(text) if len(s)>1]) for text in introductions]"
   ]
  },
  {
   "cell_type": "code",
   "execution_count": 8,
   "metadata": {},
   "outputs": [
    {
     "data": {
      "text/plain": [
       "OutEdgeDataView([(0, 1, {'weight': 1.0}), (0, 2, {'weight': 1.0}), (0, 3, {'weight': 1.0}), (0, 9, {'weight': 1.0}), (0, 13, {'weight': 1.0}), (0, 15, {'weight': 1.0}), (0, 16, {'weight': 1.0}), (0, 17, {'weight': 1.0}), (0, 18, {'weight': 1.0}), (1, 2, {'weight': 1.0}), (1, 9, {'weight': 1.0}), (1, 13, {'weight': 1.0}), (1, 15, {'weight': 1.0}), (1, 16, {'weight': 1.0}), (1, 17, {'weight': 1.0}), (1, 18, {'weight': 1.0}), (2, 4, {'weight': 1.0}), (2, 5, {'weight': 1.0}), (2, 9, {'weight': 1.0}), (2, 13, {'weight': 1.0}), (2, 14, {'weight': 1.0}), (2, 15, {'weight': 1.0}), (2, 16, {'weight': 1.0}), (2, 17, {'weight': 1.0}), (2, 18, {'weight': 1.0}), (3, 4, {'weight': 1.0}), (3, 5, {'weight': 1.0}), (4, 5, {'weight': 1.0}), (4, 14, {'weight': 1.0}), (5, 7, {'weight': 1.0}), (5, 9, {'weight': 1.0}), (5, 10, {'weight': 1.0}), (5, 11, {'weight': 1.0}), (5, 12, {'weight': 1.0}), (5, 13, {'weight': 1.0}), (5, 14, {'weight': 1.0}), (5, 17, {'weight': 1.0}), (6, 7, {'weight': 1.0}), (6, 8, {'weight': 1.0}), (6, 9, {'weight': 1.0}), (6, 13, {'weight': 1.0}), (6, 14, {'weight': 1.0}), (6, 15, {'weight': 1.0}), (6, 18, {'weight': 1.0}), (7, 8, {'weight': 1.0}), (7, 9, {'weight': 1.0}), (7, 11, {'weight': 1.0}), (7, 14, {'weight': 1.0}), (7, 15, {'weight': 1.0}), (7, 17, {'weight': 1.0}), (8, 9, {'weight': 1.0}), (8, 10, {'weight': 1.0}), (8, 13, {'weight': 1.0}), (8, 14, {'weight': 1.0}), (8, 15, {'weight': 1.0}), (8, 17, {'weight': 1.0}), (9, 11, {'weight': 1.0}), (9, 13, {'weight': 1.0}), (9, 14, {'weight': 1.0}), (9, 15, {'weight': 1.0}), (9, 16, {'weight': 1.0}), (9, 17, {'weight': 1.0}), (9, 18, {'weight': 1.0}), (10, 11, {'weight': 1.0}), (10, 13, {'weight': 1.0}), (10, 16, {'weight': 1.0}), (10, 17, {'weight': 1.0}), (10, 18, {'weight': 1.0}), (11, 12, {'weight': 0.8609}), (11, 13, {'weight': 1.0}), (11, 14, {'weight': 1.0}), (11, 15, {'weight': 1.0}), (11, 16, {'weight': 1.0}), (11, 17, {'weight': 1.0}), (11, 18, {'weight': 1.0}), (12, 13, {'weight': 1.0}), (13, 15, {'weight': 1.0}), (13, 16, {'weight': 1.0}), (13, 17, {'weight': 1.0}), (13, 18, {'weight': 1.0}), (14, 15, {'weight': 1.0}), (14, 16, {'weight': 1.0}), (14, 17, {'weight': 1.0}), (14, 18, {'weight': 1.0}), (15, 16, {'weight': 1.0}), (15, 17, {'weight': 1.0}), (15, 18, {'weight': 1.0}), (16, 18, {'weight': 1.0}), (17, 18, {'weight': 1.0})])"
      ]
     },
     "execution_count": 8,
     "metadata": {},
     "output_type": "execute_result"
    }
   ],
   "source": [
    "text=introductions[0]\n",
    "G=lexical_graph(text)\n",
    "G.edges(data=True)"
   ]
  },
  {
   "cell_type": "code",
   "execution_count": 9,
   "metadata": {},
   "outputs": [
    {
     "data": {
      "image/png": "[encoded data removed]",
      "text/plain": [
       "<matplotlib.figure.Figure at 0x7fdb0c4ae0b8>"
      ]
     },
     "metadata": {},
     "output_type": "display_data"
    }
   ],
   "source": [
    "import matplotlib.pyplot as plt\n",
    "pos = nx.spring_layout(G)\n",
    "labels={i:i for i in G.nodes}\n",
    "nx.draw_networkx_nodes(G, pos, G.nodes, node_size = 300)\n",
    "nx.draw_networkx_edges(G, pos, alpha=0.5,width=1.5)\n",
    "nx.draw_networkx_labels(G,pos,labels,font_size=10)\n",
    "plt.axis('off')\n",
    "plt.show()"
   ]
  },
  {
   "cell_type": "code",
   "execution_count": 10,
   "metadata": {},
   "outputs": [],
   "source": [
    "sentences=sent_tokenize(text)\n",
    "sentences[0],sentences[-1]=sentences[-1],sentences[0]"
   ]
  },
  {
   "cell_type": "code",
   "execution_count": 11,
   "metadata": {},
   "outputs": [
    {
     "data": {
      "text/plain": [
       "OutEdgeDataView([(0, 1, {'weight': 1.0}), (0, 2, {'weight': 1.0}), (0, 6, {'weight': 1.0}), (0, 9, {'weight': 1.0}), (0, 10, {'weight': 1.0}), (0, 11, {'weight': 1.0}), (0, 13, {'weight': 1.0}), (0, 14, {'weight': 1.0}), (0, 15, {'weight': 1.0}), (0, 16, {'weight': 1.0}), (0, 17, {'weight': 1.0}), (0, 18, {'weight': 1.0}), (1, 2, {'weight': 1.0}), (1, 9, {'weight': 1.0}), (1, 13, {'weight': 1.0}), (1, 15, {'weight': 1.0}), (1, 16, {'weight': 1.0}), (1, 17, {'weight': 1.0}), (1, 18, {'weight': 1.0}), (2, 4, {'weight': 1.0}), (2, 5, {'weight': 1.0}), (2, 9, {'weight': 1.0}), (2, 13, {'weight': 1.0}), (2, 14, {'weight': 1.0}), (2, 15, {'weight': 1.0}), (2, 16, {'weight': 1.0}), (2, 17, {'weight': 1.0}), (2, 18, {'weight': 1.0}), (3, 4, {'weight': 1.0}), (3, 5, {'weight': 1.0}), (3, 18, {'weight': 1.0}), (4, 5, {'weight': 1.0}), (4, 14, {'weight': 1.0}), (5, 7, {'weight': 1.0}), (5, 9, {'weight': 1.0}), (5, 10, {'weight': 1.0}), (5, 11, {'weight': 1.0}), (5, 12, {'weight': 1.0}), (5, 13, {'weight': 1.0}), (5, 14, {'weight': 1.0}), (5, 17, {'weight': 1.0}), (6, 7, {'weight': 1.0}), (6, 8, {'weight': 1.0}), (6, 9, {'weight': 1.0}), (6, 13, {'weight': 1.0}), (6, 14, {'weight': 1.0}), (6, 15, {'weight': 1.0}), (7, 8, {'weight': 1.0}), (7, 9, {'weight': 1.0}), (7, 11, {'weight': 1.0}), (7, 14, {'weight': 1.0}), (7, 15, {'weight': 1.0}), (7, 17, {'weight': 1.0}), (8, 9, {'weight': 1.0}), (8, 10, {'weight': 1.0}), (8, 13, {'weight': 1.0}), (8, 14, {'weight': 1.0}), (8, 15, {'weight': 1.0}), (8, 17, {'weight': 1.0}), (9, 11, {'weight': 1.0}), (9, 13, {'weight': 1.0}), (9, 14, {'weight': 1.0}), (9, 15, {'weight': 1.0}), (9, 16, {'weight': 1.0}), (9, 17, {'weight': 1.0}), (9, 18, {'weight': 1.0}), (10, 11, {'weight': 1.0}), (10, 13, {'weight': 1.0}), (10, 16, {'weight': 1.0}), (10, 17, {'weight': 1.0}), (11, 12, {'weight': 0.8609}), (11, 13, {'weight': 1.0}), (11, 14, {'weight': 1.0}), (11, 15, {'weight': 1.0}), (11, 16, {'weight': 1.0}), (11, 17, {'weight': 1.0}), (12, 13, {'weight': 1.0}), (13, 15, {'weight': 1.0}), (13, 16, {'weight': 1.0}), (13, 17, {'weight': 1.0}), (13, 18, {'weight': 1.0}), (14, 15, {'weight': 1.0}), (14, 16, {'weight': 1.0}), (14, 17, {'weight': 1.0}), (15, 16, {'weight': 1.0}), (15, 17, {'weight': 1.0}), (15, 18, {'weight': 1.0}), (16, 18, {'weight': 1.0}), (17, 18, {'weight': 1.0})])"
      ]
     },
     "execution_count": 11,
     "metadata": {},
     "output_type": "execute_result"
    }
   ],
   "source": [
    "text=' '.join(sentences)\n",
    "G=lexical_graph(text)\n",
    "G.edges(data=True)"
   ]
  },
  {
   "cell_type": "code",
   "execution_count": 12,
   "metadata": {},
   "outputs": [
    {
     "data": {
      "image/png": "[encoded data removed]",
      "text/plain": [
       "<matplotlib.figure.Figure at 0x7fdb0b0775c0>"
      ]
     },
     "metadata": {},
     "output_type": "display_data"
    }
   ],
   "source": [
    "import matplotlib.pyplot as plt\n",
    "pos = nx.spring_layout(G)\n",
    "labels={i:i for i in G.nodes}\n",
    "nx.draw_networkx_nodes(G, pos, G.nodes, node_size = 300)\n",
    "nx.draw_networkx_edges(G, pos, alpha=0.5,width=1.5)\n",
    "nx.draw_networkx_labels(G,pos,labels,font_size=10)\n",
    "plt.axis('off')\n",
    "plt.show()"
   ]
  },
  {
   "cell_type": "code",
   "execution_count": 13,
   "metadata": {},
   "outputs": [],
   "source": [
    "text='The hotel is famous. It is one of the most well-known hotels in the country. The latest international dancing competition was held at the hotel. The hotel spent a lot of money to advertise the event. Because the hotel wanted to gain international reputation. But not many people attended the event.'\n",
    "G=lexical_graph(text)"
   ]
  },
  {
   "cell_type": "code",
   "execution_count": 14,
   "metadata": {},
   "outputs": [
    {
     "data": {
      "text/plain": [
       "False"
      ]
     },
     "execution_count": 14,
     "metadata": {},
     "output_type": "execute_result"
    }
   ],
   "source": [
    "nx.is_connected(G.to_undirected())"
   ]
  },
  {
   "cell_type": "code",
   "execution_count": 15,
   "metadata": {},
   "outputs": [
    {
     "data": {
      "text/plain": [
       "True"
      ]
     },
     "execution_count": 15,
     "metadata": {},
     "output_type": "execute_result"
    }
   ],
   "source": [
    "text='The hotel, which is one of the most well-known hotels in this region, wanted to promote its image around the world by hosting the latest international dancing competition. Although the event was widely advertised, not many people participated in the competition.'\n",
    "G=lexical_graph(text)\n",
    "nx.is_connected(G.to_undirected())"
   ]
  },
  {
   "cell_type": "markdown",
   "metadata": {},
   "source": [
    "## Corpus de errores\n",
    "### Cambiamos un porcentaje P de palabras de cada texto x palabras a una distancia D\n",
    "### buscamos primero las palabras que establecen relaciones de cohesion en un texto"
   ]
  },
  {
   "cell_type": "code",
   "execution_count": 16,
   "metadata": {},
   "outputs": [],
   "source": [
    "threshold=0.85\n",
    "\n",
    "def sent_words(text,index_sent_i,index_sent_j,threshold): \n",
    "    glove_vectors=glove_text(text)\n",
    "    sentences=sent_tokenize(text)\n",
    "    sent_i=list(set([w.lower() for w in tokenizer.tokenize(sentences[index_sent_i])]))\n",
    "    sent_i=[w for w in sent_i if w not in stop_words]\n",
    "    sent_j=list(set([w.lower() for w in tokenizer.tokenize(sentences[index_sent_j])]))\n",
    "    sent_j=[w for w in sent_j if w not in stop_words]\n",
    "\n",
    "    p=list(itertools.product(sent_i,sent_j))\n",
    "    d=[]\n",
    "    for item in p:\n",
    "        if simglove(glove_vectors[item[0]],glove_vectors[item[1]])>=threshold:\n",
    "            d+=[[item[0],item[1]]]\n",
    "    \n",
    "    return d\n",
    "\n",
    "def lexical_words(text): ## pares de palabras q estan involucradas en relaciones de cohesion lexica\n",
    "    words=[]\n",
    "    sentences=sent_tokenize(text)\n",
    "    pairs=list(itertools.combinations(range(len(sentences)),2)) \n",
    "    for pair in pairs:\n",
    "        words+=sent_words(text,pair[0],pair[1],0.85)\n",
    "        \n",
    "    return words\n",
    "\n",
    "from collections import Counter\n",
    "\n",
    "def lexical_words_flat(text): ## palabra que participa en el mayor numero de relaciones de cohesion lexica\n",
    "    return Counter([item for sublist in lexical_words(text) for item in sublist]).most_common()[0][0]\n"
   ]
  },
  {
   "cell_type": "code",
   "execution_count": 17,
   "metadata": {},
   "outputs": [],
   "source": [
    "text=introductions[0]"
   ]
  },
  {
   "cell_type": "code",
   "execution_count": 18,
   "metadata": {},
   "outputs": [
    {
     "data": {
      "text/plain": [
       "[['virus', 'virus'], ['zika', 'zika']]"
      ]
     },
     "execution_count": 18,
     "metadata": {},
     "output_type": "execute_result"
    }
   ],
   "source": [
    "sent_words(text,0,1,threshold)"
   ]
  },
  {
   "cell_type": "code",
   "execution_count": 19,
   "metadata": {},
   "outputs": [
    {
     "data": {
      "text/plain": [
       "[['virus', 'virus'],\n",
       " ['zika', 'zika'],\n",
       " ['virus', 'virus'],\n",
       " ['zika', 'zika'],\n",
       " ['emerging', 'emerging'],\n",
       " ['virus', 'virus'],\n",
       " ['outbreak', 'outbreak'],\n",
       " ['zika', 'zika'],\n",
       " ['virus', 'virus'],\n",
       " ['zika', 'zika'],\n",
       " ['zika', 'zika'],\n",
       " ['virus', 'virus'],\n",
       " ['zika', 'zika'],\n",
       " ['virus', 'virus'],\n",
       " ['zika', 'zika'],\n",
       " ['infections', 'infections'],\n",
       " ['zika', 'zika'],\n",
       " ['virus', 'virus'],\n",
       " ['zika', 'zika'],\n",
       " ['virus', 'virus'],\n",
       " ['zika', 'zika'],\n",
       " ['virus', 'virus'],\n",
       " ['zika', 'zika'],\n",
       " ['virus', 'virus'],\n",
       " ['zika', 'zika'],\n",
       " ['zika', 'zika'],\n",
       " ['virus', 'virus'],\n",
       " ['diagnostics', 'diagnostics'],\n",
       " ['diagnostics', 'diagnostics'],\n",
       " ['development', 'development'],\n",
       " ['zika', 'zika'],\n",
       " ['virus', 'virus'],\n",
       " ['zika', 'zika'],\n",
       " ['development', 'development'],\n",
       " ['virus', 'virus'],\n",
       " ['diagnostics', 'diagnostics'],\n",
       " ['zika', 'zika'],\n",
       " ['virus', 'virus'],\n",
       " ['zika', 'zika'],\n",
       " ['increase', 'increase'],\n",
       " ['zika', 'zika'],\n",
       " ['virus', 'virus'],\n",
       " ['synthetic', 'synthetic'],\n",
       " ['synthetic', 'synthetic'],\n",
       " ['biology', 'biology'],\n",
       " ['synthetic', 'synthetic'],\n",
       " ['diagnostics', 'diagnostics'],\n",
       " ['practical', 'practical'],\n",
       " ['diagnostics', 'diagnostics'],\n",
       " ['molecular', 'molecular'],\n",
       " ['based', 'based'],\n",
       " ['based', 'based'],\n",
       " ['previously', 'previously'],\n",
       " ['based', 'based'],\n",
       " ['technical', 'technical'],\n",
       " ['development', 'development'],\n",
       " ['based', 'based'],\n",
       " ['diagnostics', 'diagnostics'],\n",
       " ['based', 'based'],\n",
       " ['toehold', 'toehold'],\n",
       " ['sensors', 'sensors'],\n",
       " ['technology', 'technology'],\n",
       " ['sensors', 'sensors'],\n",
       " ['sensors', 'sensors'],\n",
       " ['sequence', 'sequence'],\n",
       " ['toehold', 'toehold'],\n",
       " ['rna', 'rna'],\n",
       " ['sensors', 'sensors'],\n",
       " ['sensors', 'sensors'],\n",
       " ['rna', 'rna'],\n",
       " ['sensors', 'sensors'],\n",
       " ['platform', 'platform'],\n",
       " ['based', 'based'],\n",
       " ['sensors', 'sensors'],\n",
       " ['paper', 'paper'],\n",
       " ['based', 'based'],\n",
       " ['based', 'based'],\n",
       " ['toehold', 'toehold'],\n",
       " ['sensors', 'sensors'],\n",
       " ['switch', 'switch'],\n",
       " ['deployment', 'deployment'],\n",
       " ['platform', 'platform'],\n",
       " ['freeze', 'freeze'],\n",
       " ['paper', 'paper'],\n",
       " ['dried', 'dried'],\n",
       " ['sensors', 'sensors'],\n",
       " ['based', 'based'],\n",
       " ['sensors', 'sensors'],\n",
       " ['diagnostic', 'diagnostic'],\n",
       " ['diagnostic', 'diagnostic'],\n",
       " ['platform', 'platform'],\n",
       " ['sensors', 'sensors'],\n",
       " ['sensors', 'sensors'],\n",
       " ['diagnostic', 'diagnostic'],\n",
       " ['based', 'based'],\n",
       " ['diagnosis', 'diagnosis'],\n",
       " ['virus', 'virus'],\n",
       " ['zika', 'zika'],\n",
       " ['based', 'based'],\n",
       " ['paper', 'paper'],\n",
       " ['sensors', 'sensors'],\n",
       " ['zika', 'zika'],\n",
       " ['sensors', 'sensors'],\n",
       " ['virus', 'virus'],\n",
       " ['based', 'based'],\n",
       " ['zika', 'zika'],\n",
       " ['virus', 'virus'],\n",
       " ['zika', 'zika'],\n",
       " ['detection', 'detection'],\n",
       " ['detection', 'detection'],\n",
       " ['diagnostic', 'diagnostic'],\n",
       " ['detection', 'detection'],\n",
       " ['diagnostic', 'diagnostic'],\n",
       " ['detection', 'detection'],\n",
       " ['requires', 'require'],\n",
       " ['methods', 'techniques'],\n",
       " ['detection', 'detection'],\n",
       " ['isothermal', 'isothermal'],\n",
       " ['amplification', 'amplification'],\n",
       " ['nucleic', 'nucleic'],\n",
       " ['based', 'based'],\n",
       " ['acid', 'acid'],\n",
       " ['amplification', 'amplification'],\n",
       " ['amplification', 'amplification'],\n",
       " ['detection', 'detection'],\n",
       " ['based', 'based'],\n",
       " ['detection', 'detection'],\n",
       " ['resource', 'resource'],\n",
       " ['low', 'low'],\n",
       " ['demonstrate', 'demonstrate'],\n",
       " ['zika', 'zika'],\n",
       " ['detection', 'detection'],\n",
       " ['virus', 'virus'],\n",
       " ['zika', 'zika'],\n",
       " ['diagnostic', 'diagnostic'],\n",
       " ['detection', 'detection'],\n",
       " ['demonstrate', 'demonstrate'],\n",
       " ['zika', 'zika'],\n",
       " ['virus', 'virus'],\n",
       " ['sensors', 'sensors'],\n",
       " ['amplification', 'amplification'],\n",
       " ['amplification', 'amplification'],\n",
       " ['based', 'based'],\n",
       " ['rna', 'rna'],\n",
       " ['amplification', 'amplification'],\n",
       " ['zika', 'zika'],\n",
       " ['demonstrate', 'demonstrate'],\n",
       " ['zika', 'zika'],\n",
       " ['detection', 'detection'],\n",
       " ['scheme', 'scheme'],\n",
       " ['virus', 'virus'],\n",
       " ['zika', 'zika']]"
      ]
     },
     "execution_count": 19,
     "metadata": {},
     "output_type": "execute_result"
    }
   ],
   "source": [
    "lexical_words(text)"
   ]
  },
  {
   "cell_type": "code",
   "execution_count": 20,
   "metadata": {},
   "outputs": [
    {
     "data": {
      "text/plain": [
       "'zika'"
      ]
     },
     "execution_count": 20,
     "metadata": {},
     "output_type": "execute_result"
    }
   ],
   "source": [
    "lexical_words_flat(text)"
   ]
  },
  {
   "cell_type": "markdown",
   "metadata": {},
   "source": [
    "## visualizacion de la palabra 'zika'"
   ]
  },
  {
   "cell_type": "code",
   "execution_count": 22,
   "metadata": {},
   "outputs": [
    {
     "name": "stdout",
     "output_type": "stream",
     "text": [
      "the emerging outbreak of \u001b[1m\u001b[46m\u001b[31mzika\u001b[0m virus in the americas has brought this once obscure pathogen to the forefront of global healthcare . mostly transmitted by aedes aegypti and a. albopictus mosquitoes , \u001b[1m\u001b[46m\u001b[31mzika\u001b[0m virus infections have been further spread by international travel and have expanded to large , heavily populated regions of south , central , and north america . correlations between the increase in \u001b[1m\u001b[46m\u001b[31mzika\u001b[0m virus infections , the development of fetal microcephaly , and guillain-barré syndrome have resulted in the declaration of a public health emergency by the world health organization and a call for fast-tracked development of \u001b[1m\u001b[46m\u001b[31mzika\u001b[0m virus diagnostics . synthetic biology is an emerging discipline that has great potential to respond to such pandemics . the increasing ability of synthetic biologists to repurpose and engineer natural biological components for practical applications has led to new opportunities for molecular diagnostics . we previously developed two biotechnologies that dramatically lower the cost of and technical barriers to the development of synthetic biology-based diagnostics . the first technology , programmable rna sensors called toehold switches , can be rationally designed to bind and sense virtually any rna sequence . the second technology , a freeze-dried , paper-based , cell-free protein expression platform , allows for the deployment of these toehold switch sensors outside of a research laboratory by providing a sterile and abiotic method for the storage and distribution of genetic circuits at room temperature . we combined these technologies to create a platform for rapidly and inexpensively developing and deploying diagnostic sensors . in the context of the \u001b[1m\u001b[46m\u001b[31mzika\u001b[0m virus outbreak , the paper-based sensors offer a solution to the critical challenges facing diagnosis of the virus . standard serological approaches , such as antibody detection , are limited in diagnostic value due to cross-reactivity in patients that have previously been infected by other flaviviruses circulating in the region . as a result , accurate diagnosis requires nucleic acid-based detection methods , such as pcr and isothermal nucleic acid amplification . however , such techniques are relatively expensive , require technical expertise to run and interpret , and utilize equipment that is incompatible with use in remote and low-resource locations where surveillance and containment are critically needed . here , we demonstrate the rapid development of a diagnostic workflow for sequence-specific detection of \u001b[1m\u001b[46m\u001b[31mzika\u001b[0m virus that can be employed in low-resource settings . we have addressed limitations in the practical deployment of nucleic acid-based molecular diagnostics by combining isothermal rna amplification with toehold switch sensors on our freeze-dried , paper-based platform . we automate the amplification primer and sensor design process using in silico algorithms and demonstrate a high-throughput pipeline to assemble and test 48 \u001b[1m\u001b[46m\u001b[31mzika\u001b[0m sensors in less than 7 hr . clinically relevant sensitivity is attained using our amplification and detection scheme , and we report no significant detection of the closely related dengue virus . to further increase diagnostic capabilities , we develop a crispr/cas9-based module that discriminates between \u001b[1m\u001b[46m\u001b[31mzika\u001b[0m genotypes with single-base resolution . finally , we employ a simple sample-preparation protocol to reliably extract viral rna and demonstrate robust detection with this scheme using active \u001b[1m\u001b[46m\u001b[31mzika\u001b[0m virus samples .\n"
     ]
    }
   ],
   "source": [
    "from nltk import word_tokenize\n",
    "from termcolor import colored\n",
    "colors = ['blue', 'red', 'green', 'magenta','grey']\n",
    "\n",
    "text=introductions[0]\n",
    "word=lexical_words_flat(text)\n",
    "\n",
    "text=[w.lower() for w in word_tokenize(text)]\n",
    "\n",
    "c=[]\n",
    "for w in text:\n",
    "    if w==word:\n",
    "        c+=[colored(w, colors[1],'on_cyan',attrs=['bold'])] \n",
    "    else:\n",
    "        c+=[w] \n",
    "print(' '.join(c))"
   ]
  },
  {
   "cell_type": "markdown",
   "metadata": {},
   "source": [
    "## funcion que entrega un texto con cambios aleatorios en la palabra mas involucrada en la cohesion lexica"
   ]
  },
  {
   "cell_type": "code",
   "execution_count": 23,
   "metadata": {},
   "outputs": [],
   "source": [
    "import random\n",
    "from nltk import word_tokenize\n",
    "import operator\n",
    "\n",
    "def cohesion_perturbation(text,percentage,distance):\n",
    "    cohesive_word=lexical_words_flat(text)\n",
    "    glove_vectors=glove_text(text)\n",
    "    text=[w.lower() for w in word_tokenize(text)]\n",
    "    text_final=[]\n",
    "    for w in text:\n",
    "        if w in stop_words:\n",
    "            text_final+=[w]\n",
    "        else:\n",
    "            if w==cohesive_word:\n",
    "                r=random.random()\n",
    "                if r<percentage:\n",
    "                    try:\n",
    "                        min_word={word:spatial.distance.cosine(glove_vectors[w],glove_vectors[word]) for word in glove_vectors.keys()}\n",
    "                        d=random.randint(0,distance)\n",
    "                        min_word=list(zip(*sorted(min_word.items(), key=operator.itemgetter(1))))[0][d]\n",
    "                        w=min_word\n",
    "                        text_final+=[w]\n",
    "                    except KeyError:\n",
    "                        text_final+=[w]\n",
    "                else:\n",
    "                    text_final+=[w]\n",
    "            else:\n",
    "                text_final+=[w]\n",
    "    return ' '.join(text_final)            \n",
    "    "
   ]
  },
  {
   "cell_type": "code",
   "execution_count": 26,
   "metadata": {},
   "outputs": [],
   "source": [
    "text=introductions[0]"
   ]
  },
  {
   "cell_type": "code",
   "execution_count": 27,
   "metadata": {},
   "outputs": [],
   "source": [
    "text_changed=cohesion_perturbation(text,0.25,10)"
   ]
  },
  {
   "cell_type": "code",
   "execution_count": 28,
   "metadata": {},
   "outputs": [
    {
     "data": {
      "text/plain": [
       "'virus'"
      ]
     },
     "execution_count": 28,
     "metadata": {},
     "output_type": "execute_result"
    }
   ],
   "source": [
    "lexical_words_flat(text_changed)\n"
   ]
  },
  {
   "cell_type": "code",
   "execution_count": 29,
   "metadata": {},
   "outputs": [],
   "source": [
    "G=lexical_graph(text)\n",
    "G_cohesive=lexical_graph(text_changed)"
   ]
  },
  {
   "cell_type": "code",
   "execution_count": 30,
   "metadata": {},
   "outputs": [
    {
     "name": "stdout",
     "output_type": "stream",
     "text": [
      "4.67688947368421 4.571626315789474\n"
     ]
    }
   ],
   "source": [
    "def coherence(G): \n",
    "    D=dict(G.out_degree(weight='weight'))\n",
    "    return sum(D.values())/float(len(D.values()))\n",
    "\n",
    "\n",
    "print(coherence(G),coherence(G_cohesive))\n"
   ]
  },
  {
   "cell_type": "markdown",
   "metadata": {},
   "source": [
    "## corpus preliminar de textos cambiados de CELL\n"
   ]
  },
  {
   "cell_type": "code",
   "execution_count": 125,
   "metadata": {},
   "outputs": [],
   "source": [
    "introductions=introductions[:1000]\n",
    "introduction_changed=[cohesion_perturbation(text,0.25,10) for text in introductions]"
   ]
  },
  {
   "cell_type": "code",
   "execution_count": 246,
   "metadata": {},
   "outputs": [
    {
     "ename": "KeyError",
     "evalue": "'kb'",
     "output_type": "error",
     "traceback": [
      "\u001b[0;31m---------------------------------------------------------------------------\u001b[0m",
      "\u001b[0;31mKeyError\u001b[0m                                  Traceback (most recent call last)",
      "\u001b[0;32m<ipython-input-246-b13bd55c1f51>\u001b[0m in \u001b[0;36m<module>\u001b[0;34m()\u001b[0m\n\u001b[0;32m----> 1\u001b[0;31m \u001b[0maccuracy\u001b[0m\u001b[0;34m=\u001b[0m\u001b[0;34m[\u001b[0m\u001b[0;36m1\u001b[0m \u001b[0;32mif\u001b[0m \u001b[0mcoherence\u001b[0m\u001b[0;34m(\u001b[0m\u001b[0mlexical_graph\u001b[0m\u001b[0;34m(\u001b[0m\u001b[0mintroductions\u001b[0m\u001b[0;34m[\u001b[0m\u001b[0mi\u001b[0m\u001b[0;34m]\u001b[0m\u001b[0;34m)\u001b[0m\u001b[0;34m)\u001b[0m\u001b[0;34m>\u001b[0m\u001b[0mcoherence\u001b[0m\u001b[0;34m(\u001b[0m\u001b[0mlexical_graph\u001b[0m\u001b[0;34m(\u001b[0m\u001b[0mintroduction_changed\u001b[0m\u001b[0;34m[\u001b[0m\u001b[0mi\u001b[0m\u001b[0;34m]\u001b[0m\u001b[0;34m)\u001b[0m\u001b[0;34m)\u001b[0m \u001b[0;32melse\u001b[0m \u001b[0;36m0\u001b[0m \u001b[0;32mfor\u001b[0m \u001b[0mi\u001b[0m \u001b[0;32min\u001b[0m \u001b[0mrange\u001b[0m\u001b[0;34m(\u001b[0m\u001b[0mlen\u001b[0m\u001b[0;34m(\u001b[0m\u001b[0mintroductions\u001b[0m\u001b[0;34m)\u001b[0m\u001b[0;34m)\u001b[0m\u001b[0;34m]\u001b[0m\u001b[0;34m\u001b[0m\u001b[0m\n\u001b[0m\u001b[1;32m      2\u001b[0m \u001b[0mprint\u001b[0m\u001b[0;34m(\u001b[0m\u001b[0msum\u001b[0m\u001b[0;34m(\u001b[0m\u001b[0maccuracy\u001b[0m\u001b[0;34m)\u001b[0m\u001b[0;34m/\u001b[0m\u001b[0mfloat\u001b[0m\u001b[0;34m(\u001b[0m\u001b[0mlen\u001b[0m\u001b[0;34m(\u001b[0m\u001b[0maccuracy\u001b[0m\u001b[0;34m)\u001b[0m\u001b[0;34m)\u001b[0m\u001b[0;34m)\u001b[0m\u001b[0;34m\u001b[0m\u001b[0m\n\u001b[1;32m      3\u001b[0m \u001b[0;34m\u001b[0m\u001b[0m\n\u001b[1;32m      4\u001b[0m \u001b[0mdata\u001b[0m\u001b[0;34m=\u001b[0m\u001b[0;34m[\u001b[0m\u001b[0;34m]\u001b[0m\u001b[0;34m\u001b[0m\u001b[0m\n\u001b[1;32m      5\u001b[0m \u001b[0;32mfor\u001b[0m \u001b[0mi\u001b[0m \u001b[0;32min\u001b[0m \u001b[0mrange\u001b[0m\u001b[0;34m(\u001b[0m\u001b[0mlen\u001b[0m\u001b[0;34m(\u001b[0m\u001b[0maccuracy\u001b[0m\u001b[0;34m)\u001b[0m\u001b[0;34m)\u001b[0m\u001b[0;34m:\u001b[0m\u001b[0;34m\u001b[0m\u001b[0m\n",
      "\u001b[0;32m<ipython-input-246-b13bd55c1f51>\u001b[0m in \u001b[0;36m<listcomp>\u001b[0;34m(.0)\u001b[0m\n\u001b[0;32m----> 1\u001b[0;31m \u001b[0maccuracy\u001b[0m\u001b[0;34m=\u001b[0m\u001b[0;34m[\u001b[0m\u001b[0;36m1\u001b[0m \u001b[0;32mif\u001b[0m \u001b[0mcoherence\u001b[0m\u001b[0;34m(\u001b[0m\u001b[0mlexical_graph\u001b[0m\u001b[0;34m(\u001b[0m\u001b[0mintroductions\u001b[0m\u001b[0;34m[\u001b[0m\u001b[0mi\u001b[0m\u001b[0;34m]\u001b[0m\u001b[0;34m)\u001b[0m\u001b[0;34m)\u001b[0m\u001b[0;34m>\u001b[0m\u001b[0mcoherence\u001b[0m\u001b[0;34m(\u001b[0m\u001b[0mlexical_graph\u001b[0m\u001b[0;34m(\u001b[0m\u001b[0mintroduction_changed\u001b[0m\u001b[0;34m[\u001b[0m\u001b[0mi\u001b[0m\u001b[0;34m]\u001b[0m\u001b[0;34m)\u001b[0m\u001b[0;34m)\u001b[0m \u001b[0;32melse\u001b[0m \u001b[0;36m0\u001b[0m \u001b[0;32mfor\u001b[0m \u001b[0mi\u001b[0m \u001b[0;32min\u001b[0m \u001b[0mrange\u001b[0m\u001b[0;34m(\u001b[0m\u001b[0mlen\u001b[0m\u001b[0;34m(\u001b[0m\u001b[0mintroductions\u001b[0m\u001b[0;34m)\u001b[0m\u001b[0;34m)\u001b[0m\u001b[0;34m]\u001b[0m\u001b[0;34m\u001b[0m\u001b[0m\n\u001b[0m\u001b[1;32m      2\u001b[0m \u001b[0mprint\u001b[0m\u001b[0;34m(\u001b[0m\u001b[0msum\u001b[0m\u001b[0;34m(\u001b[0m\u001b[0maccuracy\u001b[0m\u001b[0;34m)\u001b[0m\u001b[0;34m/\u001b[0m\u001b[0mfloat\u001b[0m\u001b[0;34m(\u001b[0m\u001b[0mlen\u001b[0m\u001b[0;34m(\u001b[0m\u001b[0maccuracy\u001b[0m\u001b[0;34m)\u001b[0m\u001b[0;34m)\u001b[0m\u001b[0;34m)\u001b[0m\u001b[0;34m\u001b[0m\u001b[0m\n\u001b[1;32m      3\u001b[0m \u001b[0;34m\u001b[0m\u001b[0m\n\u001b[1;32m      4\u001b[0m \u001b[0mdata\u001b[0m\u001b[0;34m=\u001b[0m\u001b[0;34m[\u001b[0m\u001b[0;34m]\u001b[0m\u001b[0;34m\u001b[0m\u001b[0m\n\u001b[1;32m      5\u001b[0m \u001b[0;32mfor\u001b[0m \u001b[0mi\u001b[0m \u001b[0;32min\u001b[0m \u001b[0mrange\u001b[0m\u001b[0;34m(\u001b[0m\u001b[0mlen\u001b[0m\u001b[0;34m(\u001b[0m\u001b[0maccuracy\u001b[0m\u001b[0;34m)\u001b[0m\u001b[0;34m)\u001b[0m\u001b[0;34m:\u001b[0m\u001b[0;34m\u001b[0m\u001b[0m\n",
      "\u001b[0;32m<ipython-input-229-7423a2532aae>\u001b[0m in \u001b[0;36mlexical_graph\u001b[0;34m(text)\u001b[0m\n\u001b[1;32m      8\u001b[0m     \u001b[0mpairs\u001b[0m\u001b[0;34m=\u001b[0m\u001b[0mlist\u001b[0m\u001b[0;34m(\u001b[0m\u001b[0mitertools\u001b[0m\u001b[0;34m.\u001b[0m\u001b[0mcombinations\u001b[0m\u001b[0;34m(\u001b[0m\u001b[0mrange\u001b[0m\u001b[0;34m(\u001b[0m\u001b[0mlen\u001b[0m\u001b[0;34m(\u001b[0m\u001b[0msentences\u001b[0m\u001b[0;34m)\u001b[0m\u001b[0;34m)\u001b[0m\u001b[0;34m,\u001b[0m\u001b[0;36m2\u001b[0m\u001b[0;34m)\u001b[0m\u001b[0;34m)\u001b[0m \u001b[0;31m## solo aristas dirigidas en el sentido del texto!\u001b[0m\u001b[0;34m\u001b[0m\u001b[0m\n\u001b[1;32m      9\u001b[0m     \u001b[0;32mfor\u001b[0m \u001b[0mpair\u001b[0m \u001b[0;32min\u001b[0m \u001b[0mpairs\u001b[0m\u001b[0;34m:\u001b[0m\u001b[0;34m\u001b[0m\u001b[0m\n\u001b[0;32m---> 10\u001b[0;31m         \u001b[0mdist\u001b[0m\u001b[0;34m=\u001b[0m\u001b[0msent_distance_pos\u001b[0m\u001b[0;34m(\u001b[0m\u001b[0mtext\u001b[0m\u001b[0;34m,\u001b[0m\u001b[0mpair\u001b[0m\u001b[0;34m[\u001b[0m\u001b[0;36m0\u001b[0m\u001b[0;34m]\u001b[0m\u001b[0;34m,\u001b[0m\u001b[0mpair\u001b[0m\u001b[0;34m[\u001b[0m\u001b[0;36m1\u001b[0m\u001b[0;34m]\u001b[0m\u001b[0;34m,\u001b[0m\u001b[0;36m0.85\u001b[0m\u001b[0;34m)\u001b[0m\u001b[0;34m\u001b[0m\u001b[0m\n\u001b[0m\u001b[1;32m     11\u001b[0m         \u001b[0;32mif\u001b[0m \u001b[0mdist\u001b[0m\u001b[0;34m!=\u001b[0m\u001b[0;34m-\u001b[0m\u001b[0;36m1\u001b[0m\u001b[0;34m:\u001b[0m\u001b[0;34m\u001b[0m\u001b[0m\n\u001b[1;32m     12\u001b[0m             \u001b[0mG\u001b[0m\u001b[0;34m.\u001b[0m\u001b[0madd_edge\u001b[0m\u001b[0;34m(\u001b[0m\u001b[0mpair\u001b[0m\u001b[0;34m[\u001b[0m\u001b[0;36m0\u001b[0m\u001b[0;34m]\u001b[0m\u001b[0;34m,\u001b[0m\u001b[0mpair\u001b[0m\u001b[0;34m[\u001b[0m\u001b[0;36m1\u001b[0m\u001b[0;34m]\u001b[0m\u001b[0;34m,\u001b[0m\u001b[0mweight\u001b[0m\u001b[0;34m=\u001b[0m\u001b[0mround\u001b[0m\u001b[0;34m(\u001b[0m\u001b[0mdist\u001b[0m\u001b[0;34m,\u001b[0m\u001b[0;36m4\u001b[0m\u001b[0;34m)\u001b[0m\u001b[0;34m)\u001b[0m\u001b[0;34m\u001b[0m\u001b[0m\n",
      "\u001b[0;32m<ipython-input-227-489e15fa928d>\u001b[0m in \u001b[0;36msent_distance_pos\u001b[0;34m(text, index_sent_i, index_sent_j, threshold)\u001b[0m\n\u001b[1;32m     63\u001b[0m     \u001b[0md\u001b[0m\u001b[0;34m=\u001b[0m\u001b[0;34m[\u001b[0m\u001b[0;34m]\u001b[0m\u001b[0;34m\u001b[0m\u001b[0m\n\u001b[1;32m     64\u001b[0m     \u001b[0;32mfor\u001b[0m \u001b[0mitem\u001b[0m \u001b[0;32min\u001b[0m \u001b[0mp\u001b[0m\u001b[0;34m:\u001b[0m\u001b[0;34m\u001b[0m\u001b[0m\n\u001b[0;32m---> 65\u001b[0;31m         \u001b[0md\u001b[0m\u001b[0;34m+=\u001b[0m\u001b[0;34m[\u001b[0m\u001b[0msimglove\u001b[0m\u001b[0;34m(\u001b[0m\u001b[0mglove_vectors\u001b[0m\u001b[0;34m[\u001b[0m\u001b[0mitem\u001b[0m\u001b[0;34m[\u001b[0m\u001b[0;36m0\u001b[0m\u001b[0;34m]\u001b[0m\u001b[0;34m]\u001b[0m\u001b[0;34m,\u001b[0m\u001b[0mglove_vectors\u001b[0m\u001b[0;34m[\u001b[0m\u001b[0mitem\u001b[0m\u001b[0;34m[\u001b[0m\u001b[0;36m1\u001b[0m\u001b[0;34m]\u001b[0m\u001b[0;34m]\u001b[0m\u001b[0;34m)\u001b[0m\u001b[0;34m]\u001b[0m\u001b[0;34m\u001b[0m\u001b[0m\n\u001b[0m\u001b[1;32m     66\u001b[0m     \u001b[0;32mif\u001b[0m \u001b[0mlen\u001b[0m\u001b[0;34m(\u001b[0m\u001b[0md\u001b[0m\u001b[0;34m)\u001b[0m\u001b[0;34m==\u001b[0m\u001b[0;36m0\u001b[0m\u001b[0;34m:\u001b[0m\u001b[0;34m\u001b[0m\u001b[0m\n\u001b[1;32m     67\u001b[0m         \u001b[0;32mreturn\u001b[0m \u001b[0;34m-\u001b[0m\u001b[0;36m1\u001b[0m\u001b[0;34m\u001b[0m\u001b[0m\n",
      "\u001b[0;31mKeyError\u001b[0m: 'kb'"
     ]
    }
   ],
   "source": [
    "accuracy=[1 if coherence(lexical_graph(introductions[i]))>coherence(lexical_graph(introduction_changed[i])) else 0 for i in range(len(introductions))]\n",
    "print(sum(accuracy)/float(len(accuracy)))\n",
    "\n",
    "data=[]\n",
    "for i in range(len(accuracy)):\n",
    "    if accuracy[i]==1:\n",
    "        data+=[[introductions[i],introduction_changed[i]]]\n",
    "\n",
    "print(len(data))"
   ]
  },
  {
   "cell_type": "code",
   "execution_count": 127,
   "metadata": {},
   "outputs": [],
   "source": [
    "X_original=list(zip(*data))[0]\n",
    "X_artificial=list(zip(*data))[1]"
   ]
  },
  {
   "cell_type": "code",
   "execution_count": 128,
   "metadata": {},
   "outputs": [
    {
     "data": {
      "text/plain": [
       "(733, 733)"
      ]
     },
     "execution_count": 128,
     "metadata": {},
     "output_type": "execute_result"
    }
   ],
   "source": [
    "len(X_original),len(X_artificial)"
   ]
  },
  {
   "cell_type": "markdown",
   "metadata": {},
   "source": [
    "## experimento de clasificacion de a pares"
   ]
  },
  {
   "cell_type": "markdown",
   "metadata": {},
   "source": [
    "### extraemos rasgos!"
   ]
  },
  {
   "cell_type": "code",
   "execution_count": 129,
   "metadata": {},
   "outputs": [],
   "source": [
    "import community\n",
    "\n",
    "### funcion que extrae los rasgos de un texto y los devuelve como diccionario\n",
    "def coherence2(G): \n",
    "    D=dict(G.degree(weight='weight'))\n",
    "    return sum(D.values())/float(len(D.values()))\n",
    "\n",
    "def eigen_centrality(G): \n",
    "    D=dict(nx.eigenvector_centrality_numpy(G.to_undirected(), weight='weight'))\n",
    "    return sum(D.values())/float(len(D.values()))\n",
    "\n",
    "def rank(G): \n",
    "    D=dict(nx.pagerank_numpy(G, alpha=0.85, weight='weight'))\n",
    "    return sum(D.values())/float(len(D.values()))\n",
    "\n",
    "def vitality(G): \n",
    "    D=dict(nx.closeness_vitality(G, weight='weight'))\n",
    "    return sum(D.values())/float(len(D.values()))\n",
    "\n",
    "def feature_dictionary(text):\n",
    "    d={}\n",
    "    G=lexical_graph(text)\n",
    "    gg=0\n",
    "    for g in nx.connected_component_subgraphs(G.to_undirected()):\n",
    "        gg+=nx.average_shortest_path_length(g)\n",
    "    gg=gg/float(nx.number_connected_components(G.to_undirected()))\n",
    "    d['path']=gg\n",
    "    #d['out_degree']=coherence(G)\n",
    "    d['degree']=coherence2(G)\n",
    "    d['clustering']=nx.average_clustering(G.to_undirected(), weight='weight')\n",
    "    d['number_connected']=nx.number_connected_components(G.to_undirected())\n",
    "    d['weakly_connected']=nx.is_weakly_connected(G)\n",
    "    d['number_weakly_connected_components']=nx.number_weakly_connected_components(G)\n",
    "    d['semi_connected']=nx.is_semiconnected(G)\n",
    "    partition=community.best_partition(G.to_undirected())\n",
    "    d['number_communities']=len(list(set(partition.values())))\n",
    "    #d['number_strongly_connected_components']=nx.number_strongly_connected_components(G)\n",
    "    #d['is_strongly_connected']=nx.is_strongly_connected(G)\n",
    "    d['is_connected']=nx.is_connected(G.to_undirected())\n",
    "    #d['number_attracting_components']=nx.number_attracting_components(G)\n",
    "    L=[len(G.nodes) for G in list(nx.connected_component_subgraphs(G.to_undirected()))]\n",
    "    d['max_component']=max(L)/float(sum(L))\n",
    "    \n",
    "    return d\n",
    "\n",
    "from sklearn.feature_extraction import DictVectorizer\n",
    "\n",
    "def transform(TEXT):\n",
    "    vec = DictVectorizer()\n",
    "\n",
    "    measurements=[]\n",
    "    for text in TEXT:\n",
    "        measurements+=[feature_dictionary(text)]\n",
    "    \n",
    "    return vec.fit_transform(measurements)"
   ]
  },
  {
   "cell_type": "markdown",
   "metadata": {},
   "source": [
    "### normalizamos los valores de las features"
   ]
  },
  {
   "cell_type": "code",
   "execution_count": 130,
   "metadata": {},
   "outputs": [],
   "source": [
    "features=transform(X_original+X_artificial)"
   ]
  },
  {
   "cell_type": "code",
   "execution_count": 131,
   "metadata": {},
   "outputs": [],
   "source": [
    "from sklearn.preprocessing import StandardScaler\n",
    "\n",
    "features_normalized = StandardScaler().fit_transform(features.toarray())"
   ]
  },
  {
   "cell_type": "code",
   "execution_count": 132,
   "metadata": {},
   "outputs": [
    {
     "data": {
      "text/plain": [
       "array([-0.68559818, -0.95034061,  0.30929787,  0.29399614,  0.32602577,\n",
       "       -0.30037596, -0.30037596,  0.54380882, -0.20296104,  0.30929787])"
      ]
     },
     "execution_count": 132,
     "metadata": {},
     "output_type": "execute_result"
    }
   ],
   "source": [
    "features_normalized[0]"
   ]
  },
  {
   "cell_type": "markdown",
   "metadata": {},
   "source": [
    "### ahora juntamos los pares de datos"
   ]
  },
  {
   "cell_type": "code",
   "execution_count": 133,
   "metadata": {},
   "outputs": [],
   "source": [
    "import random\n",
    "\n",
    "n=len(X_original)\n",
    "features_original=features_normalized[:n]\n",
    "features_artificial=features_normalized[n:]\n",
    "\n",
    "X=[]\n",
    "labels=[]\n",
    "for i in range(len(X_original)):\n",
    "    if random.random()<0.5:\n",
    "        X+=[features_original[i]-features_artificial[i]]\n",
    "        labels+=[1]\n",
    "    else:\n",
    "        X+=[features_artificial[i]-features_original[i]]\n",
    "        labels+=[-1]\n",
    "        "
   ]
  },
  {
   "cell_type": "markdown",
   "metadata": {},
   "source": [
    "### usamos svm para clasificar a ver como nos va\n"
   ]
  },
  {
   "cell_type": "code",
   "execution_count": 134,
   "metadata": {},
   "outputs": [
    {
     "name": "stdout",
     "output_type": "stream",
     "text": [
      "f1: 0.99 (+/- 0.01)\n",
      "precision: 0.99 (+/- 0.01)\n",
      "recall: 0.99 (+/- 0.01)\n"
     ]
    }
   ],
   "source": [
    "from sklearn import svm\n",
    "from sklearn.model_selection import train_test_split\n",
    "from sklearn import metrics\n",
    "from sklearn.model_selection import cross_val_score\n",
    "\n",
    "svm = svm.SVC(kernel='linear', C=1)\n",
    "scores = cross_val_score(svm, X, labels, cv=3,scoring='f1_macro',n_jobs=-1)\n",
    "print(\"f1: %0.2f (+/- %0.2f)\" % (scores.mean(), scores.std() * 2))\n",
    "scores = cross_val_score(svm, X, labels, cv=3,scoring='precision_macro',n_jobs=-1)\n",
    "print(\"precision: %0.2f (+/- %0.2f)\" % (scores.mean(), scores.std() * 2))\n",
    "scores = cross_val_score(svm, X, labels, cv=3,scoring='recall_macro',n_jobs=-1)\n",
    "print(\"recall: %0.2f (+/- %0.2f)\" % (scores.mean(), scores.std() * 2))"
   ]
  },
  {
   "cell_type": "markdown",
   "metadata": {},
   "source": [
    "## Cadenas lexicas"
   ]
  },
  {
   "cell_type": "code",
   "execution_count": 162,
   "metadata": {},
   "outputs": [],
   "source": [
    "text=introductions[0]"
   ]
  },
  {
   "cell_type": "code",
   "execution_count": 171,
   "metadata": {},
   "outputs": [],
   "source": [
    "def lexical_words_graph(text): ## pares de palabras q estan involucradas en relaciones de cohesion lexica\n",
    "    words=[]\n",
    "    pair_sentences=[]\n",
    "    sentences=sent_tokenize(text)\n",
    "    pairs=list(itertools.combinations(range(len(sentences)),2)) \n",
    "    for pair in pairs:\n",
    "        words+=[sent_words(text,pair[0],pair[1],0.85)]\n",
    "        pair_sentences+=[pair]\n",
    "    \n",
    "    flat_words=list(set([item for sublist in words for item in sublist]))\n",
    "    \n",
    "    return words#,pair_sentences"
   ]
  },
  {
   "cell_type": "code",
   "execution_count": 173,
   "metadata": {},
   "outputs": [
    {
     "data": {
      "text/plain": [
       "[['virus', 'virus'], ['zika', 'zika']]"
      ]
     },
     "execution_count": 173,
     "metadata": {},
     "output_type": "execute_result"
    }
   ],
   "source": [
    "sent_words(text,0,1,0.85)\n",
    "#list(zip(*lexical_words_graph(text)))"
   ]
  },
  {
   "cell_type": "code",
   "execution_count": 183,
   "metadata": {},
   "outputs": [],
   "source": [
    "def lexical_words_graph(text):\n",
    "    words={}\n",
    "    sentences=sent_tokenize(text)\n",
    "    pairs=list(itertools.combinations(range(len(sentences)),2)) \n",
    "    for pair in pairs:\n",
    "        words[pair[0]]={}\n",
    "    for pair in pairs:\n",
    "        r=sent_words(text,pair[0],pair[1],0.85)\n",
    "        if len(r)>0:\n",
    "            words[pair[0]][pair[1]]=sent_words(text,pair[0],pair[1],0.85)\n",
    "    \n",
    "    return words"
   ]
  },
  {
   "cell_type": "code",
   "execution_count": 186,
   "metadata": {},
   "outputs": [
    {
     "data": {
      "text/plain": [
       "{1: [['virus', 'virus'], ['zika', 'zika']],\n",
       " 2: [['virus', 'virus'], ['zika', 'zika']],\n",
       " 3: [['emerging', 'emerging']],\n",
       " 9: [['outbreak', 'outbreak'], ['virus', 'virus'], ['zika', 'zika']],\n",
       " 13: [['virus', 'virus'], ['zika', 'zika']],\n",
       " 15: [['zika', 'zika']],\n",
       " 16: [['virus', 'virus']],\n",
       " 17: [['zika', 'zika']],\n",
       " 18: [['virus', 'virus'], ['zika', 'zika']]}"
      ]
     },
     "execution_count": 186,
     "metadata": {},
     "output_type": "execute_result"
    }
   ],
   "source": [
    "lexical_words_graph(text)[0]"
   ]
  },
  {
   "cell_type": "code",
   "execution_count": null,
   "metadata": {},
   "outputs": [],
   "source": [
    "def chain_words_graph(text):\n",
    "    chain={}\n",
    "    \n",
    "    return chain"
   ]
  },
  {
   "cell_type": "code",
   "execution_count": null,
   "metadata": {},
   "outputs": [],
   "source": []
  }
 ],
 "metadata": {
  "kernelspec": {
   "display_name": "Python 3",
   "language": "python",
   "name": "python3"
  },
  "language_info": {
   "codemirror_mode": {
    "name": "ipython",
    "version": 3
   },
   "file_extension": ".py",
   "mimetype": "text/x-python",
   "name": "python",
   "nbconvert_exporter": "python",
   "pygments_lexer": "ipython3",
   "version": "3.6.3"
  }
 },
 "nbformat": 4,
 "nbformat_minor": 2
}
