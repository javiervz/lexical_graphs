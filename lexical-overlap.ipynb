{
 "cells": [
  {
   "cell_type": "markdown",
   "metadata": {},
   "source": [
    "# Lexical overlap promedio del corpus de introducciones de la revista CELL"
   ]
  },
  {
   "cell_type": "code",
   "execution_count": 1,
   "metadata": {},
   "outputs": [],
   "source": [
    "import numpy as np\n",
    "import random\n",
    "from nltk import sent_tokenize\n",
    "from nltk.tokenize import RegexpTokenizer\n",
    "tokenizer = RegexpTokenizer(r'\\w+')\n",
    "import itertools\n",
    "from scipy import spatial\n",
    "import networkx as nx\n",
    "import ast\n",
    "import re\n",
    "from joblib import Parallel, delayed\n",
    "import multiprocessing\n",
    "import pandas as pd\n",
    "import random\n",
    "import spacy\n",
    "nlp = spacy.load('en')\n",
    "\n",
    "\n",
    "data=open('stopwords.txt','r')\n",
    "data_read = data.read()\n",
    "stop_words=data_read.replace('\\n',' ').split()"
   ]
  },
  {
   "cell_type": "markdown",
   "metadata": {},
   "source": [
    "## lexical overlap entre oraciones"
   ]
  },
  {
   "cell_type": "code",
   "execution_count": 15,
   "metadata": {},
   "outputs": [],
   "source": [
    "def lexical_overlap(sentence_i,sentence_j): ## oraciones como strings\n",
    "    sentence_i=nlp(unicode(sentence_i))\n",
    "    sentence_j=nlp(unicode(sentence_j))\n",
    "    sentence_i=[token.lemma_ for token in sentence_i]\n",
    "    sentence_j=[token.lemma_ for token in sentence_j]\n",
    "    sentence_i=[w for w in sentence_i if w not in stop_words]\n",
    "    sentence_j=[w for w in sentence_j if w not in stop_words]\n",
    "    n=np.log(len(list(set(sentence_i))))\n",
    "    m=np.log(len(list(set(sentence_j))))\n",
    "    overlap=len(list(set(sentence_i).intersection(sentence_j)))/float(n+m)\n",
    "    \n",
    "    return overlap\n",
    "\n",
    "def text_overlap(text):\n",
    "    overlap=0\n",
    "    sentences=sent_tokenize(text)\n",
    "    n=len(sentences)\n",
    "    pairs=list(zip(range(n),range(n)[1:]))\n",
    "    for pair in pairs:\n",
    "        overlap+=lexical_overlap(sentences[pair[0]],sentences[pair[1]])\n",
    "    \n",
    "    return overlap/float(len(pairs))"
   ]
  },
  {
   "cell_type": "code",
   "execution_count": 7,
   "metadata": {},
   "outputs": [
    {
     "data": {
      "text/plain": [
       "1.207288813145534"
      ]
     },
     "execution_count": 7,
     "metadata": {},
     "output_type": "execute_result"
    }
   ],
   "source": [
    "text_overlap('the dog killed the cat. the dog killed the cat')"
   ]
  },
  {
   "cell_type": "markdown",
   "metadata": {},
   "source": [
    "## introducciones revista CELL"
   ]
  },
  {
   "cell_type": "code",
   "execution_count": 8,
   "metadata": {},
   "outputs": [],
   "source": [
    "data = open('corpus_cell.json','r')\n",
    "data_cell=data.read()\n",
    "data_cell = ast.literal_eval(data_cell)\n",
    "introductions=[' '.join(item['introduction']) for item in data_cell]\n",
    "introductions=[re.sub(\"[\\(\\[].*?[\\)\\]]\", \"\", item) for item in introductions]\n",
    "introductions=[x for x in introductions if len(x)>0]\n",
    "introductions=[' '.join([s for s in sent_tokenize(text) if len(s)>1]) for text in introductions]"
   ]
  },
  {
   "cell_type": "code",
   "execution_count": 23,
   "metadata": {},
   "outputs": [],
   "source": [
    "n=multiprocessing.cpu_count()\n",
    "\n",
    "lexical_overlap=Parallel(n_jobs=n)(delayed(text_overlap)(text) for text in introductions)"
   ]
  },
  {
   "cell_type": "code",
   "execution_count": 24,
   "metadata": {},
   "outputs": [],
   "source": [
    "overlap_dict={x:[y] for x,y in zip(range(len(lexical_overlap)),lexical_overlap)}\n",
    "\n",
    "C=pd.DataFrame(overlap_dict)\n",
    "C.to_csv('overlap.csv')"
   ]
  },
  {
   "cell_type": "code",
   "execution_count": 35,
   "metadata": {},
   "outputs": [
    {
     "data": {
      "image/png": "[encoded data removed]",
      "text/plain": [
       "<matplotlib.figure.Figure at 0x7f9db1945290>"
      ]
     },
     "metadata": {},
     "output_type": "display_data"
    }
   ],
   "source": [
    "import scipy\n",
    "import matplotlib.pyplot as plt\n",
    "from scipy.stats import norm\n",
    "import matplotlib.mlab as mlab\n",
    "from scipy import stats  \n",
    "\n",
    "data = np.array(lexical_overlap) \n",
    "\n",
    "t=scipy.stats.mstats.normaltest(data)\n",
    "\n",
    "bins = np.arange(0.3, 1.3, 0.01) # fixed bin size\n",
    "\n",
    "m, s = stats.norm.fit(data) \n",
    "pdf_g = norm.pdf(bins, m, s) # now get theoretical values in our interval  \n",
    "plt.plot(bins, pdf_g, label='$\\mu=0.6878,\\sigma=0.1173$') # plot it\n",
    "plt.legend(loc='best')\n",
    "plt.xlim([min(data)-0.05, max(data)+0.05])\n",
    "plt.hist(data, bins='auto', alpha=0.5,normed=True)\n",
    "plt.xlabel('$overlap$')\n",
    "plt.ylabel('$freq$')\n",
    "plt.show()"
   ]
  },
  {
   "cell_type": "code",
   "execution_count": 28,
   "metadata": {},
   "outputs": [
    {
     "data": {
      "text/plain": [
       "(0.68784781723781729, 0.11730043694812982)"
      ]
     },
     "execution_count": 28,
     "metadata": {},
     "output_type": "execute_result"
    }
   ],
   "source": [
    "m,s"
   ]
  },
  {
   "cell_type": "markdown",
   "metadata": {},
   "source": [
    "# Experimento con textos desordenados (introducciones de la revista CELL) \n"
   ]
  },
  {
   "cell_type": "markdown",
   "metadata": {},
   "source": [
    "### corpus de textos desordenados (x cada uno definimos K = 10 versiones)"
   ]
  },
  {
   "cell_type": "code",
   "execution_count": 13,
   "metadata": {},
   "outputs": [],
   "source": [
    "introductions=random.sample(introductions,1000) ## seleccionamos 1000 al azar!\n",
    "\n",
    "random_corpus={}\n",
    "K=10\n",
    "for i in range(len(introductions)):\n",
    "    random_versions=[]\n",
    "    for j in range(K):\n",
    "        text_random=sent_tokenize(introductions[i])\n",
    "        text_random=random.sample(text_random,len(text_random))\n",
    "        text_random=' '.join(text_random)\n",
    "        random_versions+=[text_random]\n",
    "    random_corpus[i]=random_versions"
   ]
  },
  {
   "cell_type": "code",
   "execution_count": 16,
   "metadata": {},
   "outputs": [
    {
     "data": {
      "text/plain": [
       "0.6453855511428185"
      ]
     },
     "execution_count": 16,
     "metadata": {},
     "output_type": "execute_result"
    }
   ],
   "source": [
    "text_overlap(random_corpus[0][0])"
   ]
  },
  {
   "cell_type": "code",
   "execution_count": 17,
   "metadata": {},
   "outputs": [],
   "source": [
    "overlap_random={}\n",
    "for i in range(len(introductions)):\n",
    "    overlap_list=[]\n",
    "    for j in range(K):\n",
    "        overlap_list+=[text_overlap(random_corpus[i][j])]\n",
    "    overlap_random[i]=overlap_list"
   ]
  },
  {
   "cell_type": "code",
   "execution_count": 18,
   "metadata": {},
   "outputs": [],
   "source": [
    "values_random=[item for sublist in overlap_random.values() for item in sublist]\n",
    "\n",
    "C=pd.DataFrame(values_random)\n",
    "C.to_csv('overlap_random.csv')\n",
    "\n",
    "\n"
   ]
  },
  {
   "cell_type": "code",
   "execution_count": 33,
   "metadata": {},
   "outputs": [
    {
     "data": {
      "image/png": "[encoded data removed]",
      "text/plain": [
       "<matplotlib.figure.Figure at 0x7f9db17fd190>"
      ]
     },
     "metadata": {},
     "output_type": "display_data"
    }
   ],
   "source": [
    "import scipy\n",
    "import matplotlib.pyplot as plt\n",
    "from scipy.stats import norm\n",
    "import matplotlib.mlab as mlab\n",
    "from scipy import stats  \n",
    "\n",
    "data = np.array(values_random) \n",
    "\n",
    "t=scipy.stats.mstats.normaltest(data)\n",
    "\n",
    "bins = np.arange(0.3, 1.3, 0.01) # fixed bin size\n",
    "\n",
    "m, s = stats.norm.fit(data) \n",
    "pdf_g = norm.pdf(bins, m, s) # now get theoretical values in our interval  \n",
    "plt.plot(bins, pdf_g, label='$\\mu=0.5597,\\sigma=0.1040$') # plot it\n",
    "plt.legend(loc='best')\n",
    "plt.xlim([min(data)-0.05, max(data)+0.05])\n",
    "plt.hist(data, bins='auto', alpha=0.5,normed=True)\n",
    "plt.xlabel('$random$')\n",
    "plt.ylabel('$freq$')\n",
    "plt.show()"
   ]
  },
  {
   "cell_type": "code",
   "execution_count": 34,
   "metadata": {},
   "outputs": [
    {
     "data": {
      "text/plain": [
       "(0.5597939704845889, 0.10403860357121601)"
      ]
     },
     "execution_count": 34,
     "metadata": {},
     "output_type": "execute_result"
    }
   ],
   "source": [
    "m,s"
   ]
  },
  {
   "cell_type": "markdown",
   "metadata": {},
   "source": [
    "### dos distribuciones simultáneas"
   ]
  },
  {
   "cell_type": "code",
   "execution_count": 32,
   "metadata": {},
   "outputs": [
    {
     "data": {
      "image/png": "[encoded data removed]",
      "text/plain": [
       "<matplotlib.figure.Figure at 0x7f9db24e1cd0>"
      ]
     },
     "metadata": {},
     "output_type": "display_data"
    }
   ],
   "source": [
    "data = np.array(lexical_overlap) \n",
    "data_random = np.array(values_random) \n",
    "\n",
    "bins = np.arange(0.3, 1.3, 0.01) # fixed bin size\n",
    "\n",
    "plt.hist(data, bins='auto', alpha=0.35,normed=True,color='blue',label='original')\n",
    "plt.hist(data_random, bins='auto', alpha=0.35,normed=True,color='red',label='random')\n",
    "\n",
    "plt.legend(loc='best')\n",
    "plt.xlim([min(data)-0.05, max(data)+0.05])\n",
    "plt.xlabel('$overlap$')\n",
    "plt.ylabel('$freq$')\n",
    "plt.show()"
   ]
  },
  {
   "cell_type": "code",
   "execution_count": null,
   "metadata": {},
   "outputs": [],
   "source": []
  }
 ],
 "metadata": {
  "kernelspec": {
   "display_name": "Python 3",
   "language": "python",
   "name": "python3"
  },
  "language_info": {
   "codemirror_mode": {
    "name": "ipython",
    "version": 3
   },
   "file_extension": ".py",
   "mimetype": "text/x-python",
   "name": "python",
   "nbconvert_exporter": "python",
   "pygments_lexer": "ipython3",
   "version": "3.6.3"
  }
 },
 "nbformat": 4,
 "nbformat_minor": 2
}
