{
 "cells": [
  {
   "cell_type": "markdown",
   "metadata": {},
   "source": [
    "# Distancia entre oraciones sucesivas corpus revista CELL\n",
    "## distancia de coseno entre el par de palabras mas cercano de oraciones sucesivas!"
   ]
  },
  {
   "cell_type": "code",
   "execution_count": 1,
   "metadata": {},
   "outputs": [],
   "source": [
    "import numpy as np\n",
    "import random\n",
    "from nltk import sent_tokenize\n",
    "from nltk.tokenize import RegexpTokenizer\n",
    "tokenizer = RegexpTokenizer(r'\\w+')\n",
    "import itertools\n",
    "from scipy import spatial\n",
    "import networkx as nx\n",
    "import ast\n",
    "import re\n",
    "from joblib import Parallel, delayed\n",
    "import multiprocessing\n",
    "import pandas as pd\n",
    "import random\n",
    "\n",
    "data=open('stopwords.txt','r')\n",
    "data_read = data.read()\n",
    "stop_words=data_read.replace('\\n',' ').split()\n",
    "\n",
    "vectors = {}\n",
    "f = open('glove.6B.300d.txt')\n",
    "for line in f:\n",
    "    values = line.split()\n",
    "    word = values[0]\n",
    "    coefs = np.asarray(values[1:], dtype='float32')\n",
    "    vectors[word] = coefs\n",
    "f.close()"
   ]
  },
  {
   "cell_type": "markdown",
   "metadata": {},
   "source": [
    "## vectores aleatorios para las palabras fuera de vocabulario (se mantienen iguales para el mismo texto)"
   ]
  },
  {
   "cell_type": "code",
   "execution_count": 2,
   "metadata": {},
   "outputs": [],
   "source": [
    "def glove_text(text):\n",
    "    text=list(set([w.lower() for w in tokenizer.tokenize(text)]))\n",
    "    text=[w for w in text if w not in stop_words]\n",
    "    glove_vectors={}\n",
    "    for w in text:\n",
    "        if w not in vectors.keys():\n",
    "            vector=[1]*300\n",
    "            vector=[x*random.uniform(-1.5,1.5) for x in vector]\n",
    "            vector=np.array(vector)\n",
    "            glove_vectors[w]=vector\n",
    "        else:\n",
    "            glove_vectors[w]=vectors[w]\n",
    "    return glove_vectors"
   ]
  },
  {
   "cell_type": "markdown",
   "metadata": {},
   "source": [
    "## distancias entre palabras y oraciones"
   ]
  },
  {
   "cell_type": "code",
   "execution_count": 22,
   "metadata": {},
   "outputs": [],
   "source": [
    "def simglove(vector_i,vector_j):\n",
    "    return 1-spatial.distance.cosine(vector_i.reshape(1,-1),vector_j.reshape(1,-1))\n",
    "\n",
    "def sent_distance(text,index_sent_i,index_sent_j): \n",
    "    glove_vectors=glove_text(text)\n",
    "    sentences=sent_tokenize(text)\n",
    "    sent_i=list(set([w.lower() for w in tokenizer.tokenize(sentences[index_sent_i])]))\n",
    "    sent_i=[w for w in sent_i if w not in stop_words]\n",
    "    sent_j=list(set([w.lower() for w in tokenizer.tokenize(sentences[index_sent_j]) if w not in stop_words]))\n",
    "    sent_j=[w for w in sent_j if w not in stop_words]\n",
    "\n",
    "    p=list(itertools.product(sent_i,sent_j))\n",
    "    d=[]\n",
    "    for item in p:\n",
    "        d+=[simglove(glove_vectors[item[0]],glove_vectors[item[1]])]\n",
    "    if len(d)==0:\n",
    "        return -2\n",
    "    else:\n",
    "        return max(d)\n",
    "    \n",
    "def average_succesive(text): \n",
    "    average=0\n",
    "    n=len(sent_tokenize(text))\n",
    "    pairs=list(zip(range(n),range(n)[1:]))\n",
    "    p=0\n",
    "    for pair in pairs:\n",
    "        r=sent_distance(text,pair[0],pair[1])\n",
    "        if r!=-2:\n",
    "            average+=r\n",
    "            p+=1\n",
    "        \n",
    "    return average/float(p)"
   ]
  },
  {
   "cell_type": "markdown",
   "metadata": {},
   "source": [
    "## introducciones revista CELL"
   ]
  },
  {
   "cell_type": "code",
   "execution_count": 48,
   "metadata": {},
   "outputs": [],
   "source": [
    "data = open('corpus_cell.json','r')\n",
    "data_cell=data.read()\n",
    "data_cell = ast.literal_eval(data_cell)\n",
    "introductions=[' '.join(item['introduction']) for item in data_cell]\n",
    "introductions=[re.sub(\"[\\(\\[].*?[\\)\\]]\", \"\", item) for item in introductions]\n",
    "introductions=[x for x in introductions if len(x)>0]\n",
    "introductions=[' '.join([s for s in sent_tokenize(text) if len(s)>1]) for text in introductions]"
   ]
  },
  {
   "cell_type": "markdown",
   "metadata": {},
   "source": [
    "## distancia entre oraciones sucesivas introducciones CELL"
   ]
  },
  {
   "cell_type": "code",
   "execution_count": 39,
   "metadata": {},
   "outputs": [
    {
     "data": {
      "text/plain": [
       "0.8731669220659468"
      ]
     },
     "execution_count": 39,
     "metadata": {},
     "output_type": "execute_result"
    }
   ],
   "source": [
    "text=introductions[0]\n",
    "average_succesive(text)"
   ]
  },
  {
   "cell_type": "code",
   "execution_count": 40,
   "metadata": {},
   "outputs": [],
   "source": [
    "n=multiprocessing.cpu_count()\n",
    "\n",
    "average_succesive_data=Parallel(n_jobs=n)(delayed(average_succesive)(text) for text in introductions)\n"
   ]
  },
  {
   "cell_type": "code",
   "execution_count": 41,
   "metadata": {},
   "outputs": [],
   "source": [
    "succesive_dict={x:[y] for x,y in zip(range(len(average_succesive_data)),average_succesive_data)}\n",
    "\n",
    "C=pd.DataFrame(succesive_dict)\n",
    "C.to_csv('succesive_min_dist.csv')"
   ]
  },
  {
   "cell_type": "code",
   "execution_count": 44,
   "metadata": {},
   "outputs": [
    {
     "data": {
      "image/png": "[encoded data removed]",
      "text/plain": [
       "<matplotlib.figure.Figure at 0x7f8e8e894c18>"
      ]
     },
     "metadata": {},
     "output_type": "display_data"
    }
   ],
   "source": [
    "import scipy\n",
    "import matplotlib.pyplot as plt\n",
    "from scipy.stats import norm\n",
    "import matplotlib.mlab as mlab\n",
    "from scipy import stats  \n",
    "\n",
    "data = np.array(average_succesive_data) \n",
    "\n",
    "t=scipy.stats.mstats.normaltest(data)\n",
    "\n",
    "bins = np.arange(0.65, 1.0, 0.01) # fixed bin size\n",
    "\n",
    "m, s = stats.norm.fit(data) \n",
    "pdf_g = norm.pdf(bins, m, s) # now get theoretical values in our interval  \n",
    "plt.plot(bins, pdf_g, label='$\\mu=0.9080,\\sigma=0.0605$') # plot it\n",
    "plt.legend(loc='best')\n",
    "plt.xlim([min(data)-0.05, max(data)+0.05])\n",
    "plt.hist(data, bins='auto', alpha=0.5,normed=True)\n",
    "plt.xlabel('$freq$')\n",
    "plt.ylabel('$succesive min$')\n",
    "plt.show()"
   ]
  },
  {
   "cell_type": "code",
   "execution_count": 43,
   "metadata": {},
   "outputs": [
    {
     "data": {
      "text/plain": [
       "(0.9080193003368734, 0.060543630433519895)"
      ]
     },
     "execution_count": 43,
     "metadata": {},
     "output_type": "execute_result"
    }
   ],
   "source": [
    "m,s"
   ]
  },
  {
   "cell_type": "markdown",
   "metadata": {},
   "source": [
    "# Experimento con textos desordenados (introducciones de la revista CELL) \n"
   ]
  },
  {
   "cell_type": "markdown",
   "metadata": {},
   "source": [
    "### corpus de textos desordenados (x cada uno definimos K = 10 versiones)"
   ]
  },
  {
   "cell_type": "code",
   "execution_count": 49,
   "metadata": {},
   "outputs": [],
   "source": [
    "introductions=random.sample(introductions,1000) ## seleccionamos 1000 al azar!\n",
    "\n",
    "random_corpus={}\n",
    "K=10\n",
    "for i in range(len(introductions)):\n",
    "    random_versions=[]\n",
    "    for j in range(K):\n",
    "        text_random=sent_tokenize(introductions[i])\n",
    "        text_random=random.sample(text_random,len(text_random))\n",
    "        text_random=' '.join(text_random)\n",
    "        random_versions+=[text_random]\n",
    "    random_corpus[i]=random_versions"
   ]
  },
  {
   "cell_type": "code",
   "execution_count": 50,
   "metadata": {},
   "outputs": [
    {
     "data": {
      "text/plain": [
       "0.8106725427412218"
      ]
     },
     "execution_count": 50,
     "metadata": {},
     "output_type": "execute_result"
    }
   ],
   "source": [
    "average_succesive(random_corpus[0][0])"
   ]
  },
  {
   "cell_type": "code",
   "execution_count": 51,
   "metadata": {},
   "outputs": [],
   "source": [
    "succesive_random={}\n",
    "for i in range(len(introductions)):\n",
    "    succesive_list=[]\n",
    "    for j in range(K):\n",
    "        succesive_list+=[average_succesive(random_corpus[i][j])]\n",
    "    succesive_random[i]=succesive_list"
   ]
  },
  {
   "cell_type": "code",
   "execution_count": 52,
   "metadata": {},
   "outputs": [],
   "source": [
    "values_random=[item for sublist in succesive_random.values() for item in sublist]\n",
    "\n",
    "C=pd.DataFrame(values_random)\n",
    "C.to_csv('succesive_random.csv')"
   ]
  },
  {
   "cell_type": "code",
   "execution_count": 55,
   "metadata": {},
   "outputs": [
    {
     "data": {
      "image/png": "[encoded data removed]",
      "text/plain": [
       "<matplotlib.figure.Figure at 0x7f8e8f04efd0>"
      ]
     },
     "metadata": {},
     "output_type": "display_data"
    }
   ],
   "source": [
    "import scipy\n",
    "import matplotlib.pyplot as plt\n",
    "from scipy.stats import norm\n",
    "import matplotlib.mlab as mlab\n",
    "from scipy import stats  \n",
    "\n",
    "data = np.array(values_random) \n",
    "\n",
    "t=scipy.stats.mstats.normaltest(data)\n",
    "\n",
    "bins = np.arange(0.65, 1.0, 0.01) # fixed bin size\n",
    "\n",
    "m, s = stats.norm.fit(data) \n",
    "pdf_g = norm.pdf(bins, m, s) # now get theoretical values in our interval  \n",
    "plt.plot(bins, pdf_g, label='$\\mu=0.8167,\\sigma=0.0860$') # plot it\n",
    "plt.legend(loc='best')\n",
    "plt.xlim([min(data)-0.05, max(data)+0.05])\n",
    "plt.hist(data, bins='auto', alpha=0.5,normed=True)\n",
    "plt.xlabel('$freq$')\n",
    "plt.ylabel('$succesive min random$')\n",
    "plt.show()"
   ]
  },
  {
   "cell_type": "code",
   "execution_count": 56,
   "metadata": {},
   "outputs": [
    {
     "data": {
      "text/plain": [
       "(0.816765905287002, 0.08603624006630038)"
      ]
     },
     "execution_count": 56,
     "metadata": {},
     "output_type": "execute_result"
    }
   ],
   "source": [
    "m,s"
   ]
  },
  {
   "cell_type": "markdown",
   "metadata": {},
   "source": [
    "### dos distribuciones "
   ]
  },
  {
   "cell_type": "code",
   "execution_count": 57,
   "metadata": {},
   "outputs": [
    {
     "data": {
      "image/png": "[encoded data removed]",
      "text/plain": [
       "<matplotlib.figure.Figure at 0x7f8e8efdab70>"
      ]
     },
     "metadata": {},
     "output_type": "display_data"
    }
   ],
   "source": [
    "data = np.array(average_succesive_data) \n",
    "data_random = np.array(values_random) \n",
    "\n",
    "bins = np.arange(0.65, 1.0, 0.01) # fixed bin size\n",
    "\n",
    "plt.hist(data, bins='auto', alpha=0.35,normed=True,color='blue',label='original')\n",
    "plt.hist(data_random, bins='auto', alpha=0.35,normed=True,color='red',label='random')\n",
    "\n",
    "plt.legend(loc='best')\n",
    "plt.xlim([min(data)-0.05, max(data)+0.05])\n",
    "plt.xlabel('$succesive$')\n",
    "plt.ylabel('$freq$')\n",
    "plt.show()"
   ]
  },
  {
   "cell_type": "code",
   "execution_count": null,
   "metadata": {},
   "outputs": [],
   "source": []
  }
 ],
 "metadata": {
  "kernelspec": {
   "display_name": "Python 3",
   "language": "python",
   "name": "python3"
  },
  "language_info": {
   "codemirror_mode": {
    "name": "ipython",
    "version": 3
   },
   "file_extension": ".py",
   "mimetype": "text/x-python",
   "name": "python",
   "nbconvert_exporter": "python",
   "pygments_lexer": "ipython3",
   "version": "3.6.3"
  }
 },
 "nbformat": 4,
 "nbformat_minor": 2
}
