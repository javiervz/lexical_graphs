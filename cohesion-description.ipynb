{
 "cells": [
  {
   "cell_type": "markdown",
   "metadata": {},
   "source": [
    "# Conexiones de cohesion lexica promedio del corpus de introducciones de la revista CELL"
   ]
  },
  {
   "cell_type": "markdown",
   "metadata": {},
   "source": [
    "# Lexical graphs"
   ]
  },
  {
   "cell_type": "markdown",
   "metadata": {},
   "source": [
    "## stopwords y vectores GLOVE\n",
    "### http://www.lextek.com/manuals/onix/stopwords2.html\n",
    "### https://nlp.stanford.edu/projects/glove/"
   ]
  },
  {
   "cell_type": "code",
   "execution_count": 14,
   "metadata": {},
   "outputs": [],
   "source": [
    "import numpy as np\n",
    "import random\n",
    "from nltk import sent_tokenize\n",
    "from nltk.tokenize import RegexpTokenizer\n",
    "tokenizer = RegexpTokenizer(r'\\w+')\n",
    "import itertools\n",
    "from scipy import spatial\n",
    "import networkx as nx\n",
    "import ast\n",
    "import re\n",
    "from joblib import Parallel, delayed\n",
    "import multiprocessing\n",
    "import pandas as pd\n",
    "import random\n",
    "\n",
    "data=open('stopwords.txt','r')\n",
    "data_read = data.read()\n",
    "stop_words=data_read.replace('\\n',' ').split()\n",
    "\n",
    "vectors = {}\n",
    "f = open('glove.6B.300d.txt')\n",
    "for line in f:\n",
    "    values = line.split()\n",
    "    word = values[0]\n",
    "    coefs = np.asarray(values[1:], dtype='float32')\n",
    "    vectors[word] = coefs\n",
    "f.close()"
   ]
  },
  {
   "cell_type": "markdown",
   "metadata": {},
   "source": [
    "## vectores aleatorios para las palabras fuera de vocabulario (se mantienen iguales para el mismo texto)"
   ]
  },
  {
   "cell_type": "code",
   "execution_count": 15,
   "metadata": {},
   "outputs": [],
   "source": [
    "def glove_text(text):\n",
    "    text=list(set([w.lower() for w in tokenizer.tokenize(text)]))\n",
    "    text=[w for w in text if w not in stop_words]\n",
    "    glove_vectors={}\n",
    "    for w in text:\n",
    "        if w not in vectors.keys():\n",
    "            vector=[1]*300\n",
    "            vector=[x*random.uniform(-1.5,1.5) for x in vector]\n",
    "            vector=np.array(vector)\n",
    "            glove_vectors[w]=vector\n",
    "        else:\n",
    "            glove_vectors[w]=vectors[w]\n",
    "    return glove_vectors"
   ]
  },
  {
   "cell_type": "markdown",
   "metadata": {},
   "source": [
    "## distancias entre palabras y oraciones"
   ]
  },
  {
   "cell_type": "code",
   "execution_count": 16,
   "metadata": {},
   "outputs": [],
   "source": [
    "def simglove(vector_i,vector_j):\n",
    "    return 1-spatial.distance.cosine(vector_i.reshape(1,-1),vector_j.reshape(1,-1))\n",
    "\n",
    "def sent_distance(text,index_sent_i,index_sent_j,threshold): \n",
    "    glove_vectors=glove_text(text)\n",
    "    sentences=sent_tokenize(text)\n",
    "    sent_i=list(set([w.lower() for w in tokenizer.tokenize(sentences[index_sent_i])]))\n",
    "    sent_i=[w for w in sent_i if w not in stop_words]\n",
    "    sent_j=list(set([w.lower() for w in tokenizer.tokenize(sentences[index_sent_j]) if w not in stop_words]))\n",
    "    sent_j=[w for w in sent_j if w not in stop_words]\n",
    "\n",
    "    p=list(itertools.product(sent_i,sent_j))\n",
    "    d=[]\n",
    "    for item in p:\n",
    "        d+=[simglove(glove_vectors[item[0]],glove_vectors[item[1]])]\n",
    "    if len(d)==0:\n",
    "        return -1\n",
    "    else:\n",
    "        if max(d)>=threshold:\n",
    "            return max(d)\n",
    "        else:\n",
    "            return -1"
   ]
  },
  {
   "cell_type": "markdown",
   "metadata": {},
   "source": [
    "## lexical graph\n",
    "### http://aclweb.org/anthology/N16-1167\n",
    "### http://aclweb.org/anthology/W17-4803"
   ]
  },
  {
   "cell_type": "code",
   "execution_count": 17,
   "metadata": {},
   "outputs": [],
   "source": [
    "def lexical_graph(text):\n",
    "    sentences=sent_tokenize(text)\n",
    "    G=nx.DiGraph()\n",
    "    for i in range(len(sentences)):\n",
    "        G.add_node(i)\n",
    "    pairs=list(itertools.combinations(range(len(sentences)),2)) ## solo aristas dirigidas en el sentido del texto!\n",
    "    for pair in pairs:\n",
    "        dist=sent_distance(text,pair[0],pair[1],0.85)\n",
    "        if dist!=-1:\n",
    "            G.add_edge(pair[0],pair[1],weight=round(dist,4)) \n",
    "    return G"
   ]
  },
  {
   "cell_type": "markdown",
   "metadata": {},
   "source": [
    "# Cohesion (con threshold 0.85) para introducciones revista CELL"
   ]
  },
  {
   "cell_type": "code",
   "execution_count": 60,
   "metadata": {},
   "outputs": [],
   "source": [
    "data = open('corpus_cell.json','r')\n",
    "data_cell=data.read()\n",
    "data_cell = ast.literal_eval(data_cell)\n",
    "introductions=[' '.join(item['introduction']) for item in data_cell]\n",
    "introductions=[re.sub(\"[\\(\\[].*?[\\)\\]]\", \"\", item) for item in introductions]\n",
    "introductions=[x for x in introductions if len(x)>0]\n",
    "introductions=[' '.join([s for s in sent_tokenize(text) if len(s)>1]) for text in introductions]"
   ]
  },
  {
   "cell_type": "markdown",
   "metadata": {},
   "source": [
    "### cohersion = average outdegree"
   ]
  },
  {
   "cell_type": "code",
   "execution_count": 19,
   "metadata": {},
   "outputs": [
    {
     "name": "stdout",
     "output_type": "stream",
     "text": [
      "4.67688947368421\n"
     ]
    }
   ],
   "source": [
    "def coherence(G): \n",
    "    D=dict(G.out_degree(weight='weight'))\n",
    "    D_out=list(D.values())\n",
    "    return np.mean(D_out)\n",
    "\n",
    "print(coherence(lexical_graph(introductions[0])))\n",
    "    "
   ]
  },
  {
   "cell_type": "markdown",
   "metadata": {},
   "source": [
    "### cohesion promedio de introducciones de CELL"
   ]
  },
  {
   "cell_type": "code",
   "execution_count": 20,
   "metadata": {},
   "outputs": [],
   "source": [
    "n=multiprocessing.cpu_count()\n",
    "\n",
    "graphs=Parallel(n_jobs=n)(delayed(lexical_graph)(text) for text in introductions)"
   ]
  },
  {
   "cell_type": "code",
   "execution_count": 21,
   "metadata": {},
   "outputs": [],
   "source": [
    "cohesion_promedio_CELL=Parallel(n_jobs=n)(delayed(coherence)(graph) for graph in graphs)"
   ]
  },
  {
   "cell_type": "code",
   "execution_count": 22,
   "metadata": {},
   "outputs": [],
   "source": [
    "cohesion_dict={x:[y] for x,y in zip(range(len(cohesion_promedio_CELL)),cohesion_promedio_CELL)}\n",
    "\n",
    "C=pd.DataFrame(cohesion_dict)\n",
    "C.to_csv('cohesion.csv')"
   ]
  },
  {
   "cell_type": "markdown",
   "metadata": {},
   "source": [
    "### cohesion"
   ]
  },
  {
   "cell_type": "code",
   "execution_count": 23,
   "metadata": {},
   "outputs": [
    {
     "data": {
      "image/png": "[encoded data removed]",
      "text/plain": [
       "<matplotlib.figure.Figure at 0x7f3ef11fc828>"
      ]
     },
     "metadata": {},
     "output_type": "display_data"
    }
   ],
   "source": [
    "import scipy\n",
    "import matplotlib.pyplot as plt\n",
    "from scipy.stats import norm\n",
    "import matplotlib.mlab as mlab\n",
    "from scipy import stats  \n",
    "\n",
    "data = np.array(cohesion_promedio_CELL) \n",
    "\n",
    "t=scipy.stats.mstats.normaltest(data)\n",
    "\n",
    "bins = np.arange(0, 15, 0.1) # fixed bin size\n",
    "\n",
    "m, s = stats.norm.fit(data) \n",
    "pdf_g = norm.pdf(bins, m, s) # now get theoretical values in our interval  \n",
    "plt.plot(bins, pdf_g, label='$\\mu=6.5775,\\sigma=2.2025$') # plot it\n",
    "plt.legend(loc='best')\n",
    "plt.xlim([min(data)-0.05, max(data)+0.05])\n",
    "plt.hist(data, bins='auto', alpha=0.5,normed=True)\n",
    "plt.xlabel('$outdegree$')\n",
    "plt.ylabel('$freq$')\n",
    "plt.show()"
   ]
  },
  {
   "cell_type": "code",
   "execution_count": 24,
   "metadata": {},
   "outputs": [
    {
     "data": {
      "text/plain": [
       "(6.577576373362595, 2.202598906012723)"
      ]
     },
     "execution_count": 24,
     "metadata": {},
     "output_type": "execute_result"
    }
   ],
   "source": [
    "m,s"
   ]
  },
  {
   "cell_type": "markdown",
   "metadata": {},
   "source": [
    "# Cohesion (sin threshold) para introducciones revista CELL"
   ]
  },
  {
   "cell_type": "code",
   "execution_count": 25,
   "metadata": {},
   "outputs": [],
   "source": [
    "def lexical_graph_without(text):\n",
    "    sentences=sent_tokenize(text)\n",
    "    G=nx.DiGraph()\n",
    "    for i in range(len(sentences)):\n",
    "        G.add_node(i)\n",
    "    pairs=list(itertools.combinations(range(len(sentences)),2)) ## solo aristas dirigidas en el sentido del texto!\n",
    "    for pair in pairs:\n",
    "        dist=sent_distance(text,pair[0],pair[1],0.)\n",
    "        if dist!=-1:\n",
    "            G.add_edge(pair[0],pair[1],weight=round(dist,4)) \n",
    "    return G"
   ]
  },
  {
   "cell_type": "markdown",
   "metadata": {},
   "source": [
    "### cohesion promedio (sin threshold) de introducciones de CELL"
   ]
  },
  {
   "cell_type": "code",
   "execution_count": 26,
   "metadata": {},
   "outputs": [],
   "source": [
    "graphs_without=[lexical_graph_without(text) for text in introductions]"
   ]
  },
  {
   "cell_type": "code",
   "execution_count": 27,
   "metadata": {},
   "outputs": [],
   "source": [
    "cohesion_promedio_CELL_without=Parallel(n_jobs=n)(delayed(coherence)(graph) for graph in graphs_without)"
   ]
  },
  {
   "cell_type": "code",
   "execution_count": 28,
   "metadata": {},
   "outputs": [],
   "source": [
    "cohesion_dict_without={x:[y] for x,y in zip(range(len(cohesion_promedio_CELL_without)),cohesion_promedio_CELL_without)}\n",
    "\n",
    "C=pd.DataFrame(cohesion_dict_without)\n",
    "C.to_csv('cohesion_without.csv')"
   ]
  },
  {
   "cell_type": "code",
   "execution_count": 33,
   "metadata": {},
   "outputs": [
    {
     "data": {
      "image/png": "[encoded data removed]",
      "text/plain": [
       "<matplotlib.figure.Figure at 0x7f3eeb2d1f28>"
      ]
     },
     "metadata": {},
     "output_type": "display_data"
    }
   ],
   "source": [
    "import scipy\n",
    "import matplotlib.pyplot as plt\n",
    "from scipy.stats import norm\n",
    "import matplotlib.mlab as mlab\n",
    "from scipy import stats  \n",
    "\n",
    "data = np.array(cohesion_promedio_CELL_without) \n",
    "\n",
    "t=scipy.stats.mstats.normaltest(data)\n",
    "\n",
    "bins = np.arange(0, 15, 0.1) # fixed bin size\n",
    "\n",
    "m, s = stats.norm.fit(data) \n",
    "pdf_g = norm.pdf(bins, m, s) # now get theoretical values in our interval  \n",
    "plt.plot(bins, pdf_g, label='$\\mu=8.8616,\\sigma=2.7648$') # plot it\n",
    "plt.legend(loc='best')\n",
    "plt.xlim([min(data)-0.05, max(data)+0.05])\n",
    "plt.hist(data, bins='auto', alpha=0.5,normed=True)\n",
    "plt.xlabel('$outdegree$')\n",
    "plt.ylabel('$freq$')\n",
    "plt.show()"
   ]
  },
  {
   "cell_type": "code",
   "execution_count": 34,
   "metadata": {},
   "outputs": [
    {
     "data": {
      "text/plain": [
       "(8.861679976131105, 2.7648827732249037)"
      ]
     },
     "execution_count": 34,
     "metadata": {},
     "output_type": "execute_result"
    }
   ],
   "source": [
    "m,s"
   ]
  },
  {
   "cell_type": "markdown",
   "metadata": {},
   "source": [
    "# Distancia entre oraciones sucesivas introducciones CELL"
   ]
  },
  {
   "cell_type": "markdown",
   "metadata": {},
   "source": [
    "### funcion para distancia entre oraciones"
   ]
  },
  {
   "cell_type": "code",
   "execution_count": 35,
   "metadata": {},
   "outputs": [],
   "source": [
    "def sent_distance_average(text,index_sent_i,index_sent_j): \n",
    "    glove_vectors=glove_text(text)\n",
    "    sentences=sent_tokenize(text)\n",
    "    sent_i=list(set([w.lower() for w in tokenizer.tokenize(sentences[index_sent_i])]))\n",
    "    sent_i=[w for w in sent_i if w not in stop_words]\n",
    "    sent_j=list(set([w.lower() for w in tokenizer.tokenize(sentences[index_sent_j]) if w not in stop_words]))\n",
    "    sent_j=[w for w in sent_j if w not in stop_words]\n",
    "    \n",
    "    ### vectores de las oraciones!\n",
    "    sent_i=[glove_vectors[word] for word in sent_i]\n",
    "    sent_j=[glove_vectors[word] for word in sent_j]\n",
    "    \n",
    "    \n",
    "    if len(sent_i)>0 and len(sent_j)>0:\n",
    "        ### vectores suma\n",
    "        sent_i=np.sum(sent_i, axis=0)\n",
    "        sent_j=np.sum(sent_j, axis=0)\n",
    "        return simglove(sent_i,sent_j)\n",
    "    else:\n",
    "        return -2\n",
    "\n",
    "def average_succesive(text): \n",
    "    average=0\n",
    "    n=len(sent_tokenize(text))\n",
    "    pairs=list(zip(range(n),range(n)[1:]))\n",
    "    p=0\n",
    "    for pair in pairs:\n",
    "        r=sent_distance_average(text,pair[0],pair[1])\n",
    "        if r!=-2:\n",
    "            average+=r\n",
    "            p+=1\n",
    "        \n",
    "    return average/float(p)"
   ]
  },
  {
   "cell_type": "code",
   "execution_count": 36,
   "metadata": {},
   "outputs": [
    {
     "data": {
      "text/plain": [
       "0.6604255603973552"
      ]
     },
     "execution_count": 36,
     "metadata": {},
     "output_type": "execute_result"
    }
   ],
   "source": [
    "text=introductions[0]\n",
    "sent_distance_average(text,0,1)"
   ]
  },
  {
   "cell_type": "code",
   "execution_count": 37,
   "metadata": {},
   "outputs": [
    {
     "data": {
      "text/plain": [
       "0.6479247540734778"
      ]
     },
     "execution_count": 37,
     "metadata": {},
     "output_type": "execute_result"
    }
   ],
   "source": [
    "average_succesive(text)"
   ]
  },
  {
   "cell_type": "markdown",
   "metadata": {},
   "source": [
    "### average distance "
   ]
  },
  {
   "cell_type": "code",
   "execution_count": 38,
   "metadata": {},
   "outputs": [],
   "source": [
    "n=multiprocessing.cpu_count()\n",
    "\n",
    "average_succesive_CELL=Parallel(n_jobs=n)(delayed(average_succesive)(text) for text in introductions)\n"
   ]
  },
  {
   "cell_type": "code",
   "execution_count": 39,
   "metadata": {},
   "outputs": [],
   "source": [
    "succesive_dict={x:[y] for x,y in zip(range(len(average_succesive_CELL)),average_succesive_CELL)}\n",
    "\n",
    "C=pd.DataFrame(succesive_dict)\n",
    "C.to_csv('succesive.csv')"
   ]
  },
  {
   "cell_type": "code",
   "execution_count": 42,
   "metadata": {},
   "outputs": [
    {
     "data": {
      "image/png": "[encoded data removed]",
      "text/plain": [
       "<matplotlib.figure.Figure at 0x7f3ecd2919e8>"
      ]
     },
     "metadata": {},
     "output_type": "display_data"
    }
   ],
   "source": [
    "import scipy\n",
    "import matplotlib.pyplot as plt\n",
    "from scipy.stats import norm\n",
    "import matplotlib.mlab as mlab\n",
    "from scipy import stats  \n",
    "\n",
    "data = np.array(average_succesive_CELL) \n",
    "\n",
    "t=scipy.stats.mstats.normaltest(data)\n",
    "\n",
    "bins = np.arange(0.3, 0.9, 0.01) # fixed bin size\n",
    "\n",
    "m, s = stats.norm.fit(data) \n",
    "pdf_g = norm.pdf(bins, m, s) # now get theoretical values in our interval  \n",
    "plt.plot(bins, pdf_g, label='$\\mu=0.5921,\\sigma=0.0696$') # plot it\n",
    "plt.legend(loc='best')\n",
    "plt.xlim([min(data)-0.05, max(data)+0.05])\n",
    "plt.hist(data, bins='auto', alpha=0.5,normed=True)\n",
    "plt.xlabel('$freq$')\n",
    "plt.ylabel('$succesive$')\n",
    "plt.show()"
   ]
  },
  {
   "cell_type": "code",
   "execution_count": 43,
   "metadata": {},
   "outputs": [
    {
     "data": {
      "text/plain": [
       "(0.5921092086909895, 0.06966503406350417)"
      ]
     },
     "execution_count": 43,
     "metadata": {},
     "output_type": "execute_result"
    }
   ],
   "source": [
    "m,s"
   ]
  },
  {
   "cell_type": "markdown",
   "metadata": {},
   "source": [
    "### average con ventana de analisis (caso mas simple: anterior y posterior)"
   ]
  },
  {
   "cell_type": "code",
   "execution_count": 44,
   "metadata": {},
   "outputs": [],
   "source": [
    "def sent_window_average(text,index_sent): \n",
    "    glove_vectors=glove_text(text)\n",
    "    sentences=sent_tokenize(text)\n",
    "    n=len(sentences)\n",
    "    if index_sent==0:\n",
    "        sent_i=list(set([w.lower() for w in tokenizer.tokenize(sentences[index_sent])]))\n",
    "        sent_i=[w for w in sent_i if w not in stop_words]\n",
    "        sent_j=list(set([w.lower() for w in tokenizer.tokenize(sentences[index_sent+1]) if w not in stop_words]))\n",
    "        sent_j=[w for w in sent_j if w not in stop_words]\n",
    "    \n",
    "        ### vectores de las oraciones!\n",
    "        sent_i=[glove_vectors[word] for word in sent_i]\n",
    "        sent_j=[glove_vectors[word] for word in sent_j]\n",
    "    \n",
    "        if len(sent_i)>0 and len(sent_j)>0:\n",
    "            ### vectores suma\n",
    "            sent_i=np.sum(sent_i, axis=0)\n",
    "            sent_j=np.sum(sent_j, axis=0)\n",
    "            return simglove(sent_i,sent_j)\n",
    "        else:\n",
    "            return -2\n",
    "    elif index_sent==n-1:\n",
    "        sent_i=list(set([w.lower() for w in tokenizer.tokenize(sentences[index_sent])]))\n",
    "        sent_i=[w for w in sent_i if w not in stop_words]\n",
    "        sent_j=list(set([w.lower() for w in tokenizer.tokenize(sentences[index_sent-1]) if w not in stop_words]))\n",
    "        sent_j=[w for w in sent_j if w not in stop_words]\n",
    "    \n",
    "        ### vectores de las oraciones!\n",
    "        sent_i=[glove_vectors[word] for word in sent_i]\n",
    "        sent_j=[glove_vectors[word] for word in sent_j]\n",
    "    \n",
    "        if len(sent_i)>0 and len(sent_j)>0:\n",
    "            ### vectores suma\n",
    "            sent_i=np.sum(sent_i, axis=0)\n",
    "            sent_j=np.sum(sent_j, axis=0)\n",
    "            return simglove(sent_i,sent_j)\n",
    "        else:\n",
    "            return -2\n",
    "    else:\n",
    "        sent=list(set([w.lower() for w in tokenizer.tokenize(sentences[index_sent])]))\n",
    "        sent=[w for w in sent if w not in stop_words]\n",
    "        \n",
    "        sent_L=list(set([w.lower() for w in tokenizer.tokenize(sentences[index_sent-1]) if w not in stop_words]))\n",
    "        sent_L=[w for w in sent_L if w not in stop_words]\n",
    "        \n",
    "        sent_R=list(set([w.lower() for w in tokenizer.tokenize(sentences[index_sent+1]) if w not in stop_words]))\n",
    "        sent_R=[w for w in sent_R if w not in stop_words]\n",
    "    \n",
    "        ### vectores de las oraciones!\n",
    "        sent=[glove_vectors[word] for word in sent]\n",
    "        sent_L=[glove_vectors[word] for word in sent_L]\n",
    "        sent_R=[glove_vectors[word] for word in sent_R]\n",
    "\n",
    "    \n",
    "        if len(sent)>0 and len(sent_L)>0 and len(sent_R)>0:\n",
    "            ### vectores suma\n",
    "            sent=np.sum(sent, axis=0)\n",
    "            sent_L=np.sum(sent_L, axis=0)\n",
    "            sent_R=np.sum(sent_R, axis=0)\n",
    "            return (simglove(sent,sent_L)+simglove(sent,sent_R))/float(2)\n",
    "        else:\n",
    "            return -2\n",
    "\n",
    "def average_succesive_window(text): \n",
    "    average=0\n",
    "    n=len(sent_tokenize(text))\n",
    "    p=0\n",
    "    for i in range(n):\n",
    "        r=sent_window_average(text,i)\n",
    "        if r!=-2:\n",
    "            average+=r\n",
    "            p+=1\n",
    "        \n",
    "    return average/float(p)"
   ]
  },
  {
   "cell_type": "code",
   "execution_count": 45,
   "metadata": {},
   "outputs": [],
   "source": [
    "average_window_CELL=Parallel(n_jobs=n)(delayed(average_succesive_window)(text) for text in introductions)"
   ]
  },
  {
   "cell_type": "code",
   "execution_count": 46,
   "metadata": {},
   "outputs": [],
   "source": [
    "window_dict={x:[y] for x,y in zip(range(len(average_window_CELL)),average_window_CELL)}\n",
    "\n",
    "C=pd.DataFrame(window_dict)\n",
    "C.to_csv('window.csv')"
   ]
  },
  {
   "cell_type": "code",
   "execution_count": 49,
   "metadata": {},
   "outputs": [
    {
     "data": {
      "image/png": "[encoded data removed]",
      "text/plain": [
       "<matplotlib.figure.Figure at 0x7f3ec2dbfdd8>"
      ]
     },
     "metadata": {},
     "output_type": "display_data"
    }
   ],
   "source": [
    "import scipy\n",
    "import matplotlib.pyplot as plt\n",
    "from scipy.stats import norm\n",
    "import matplotlib.mlab as mlab\n",
    "from scipy import stats  \n",
    "\n",
    "data = np.array(average_window_CELL) \n",
    "\n",
    "t=scipy.stats.mstats.normaltest(data)\n",
    "\n",
    "bins = np.arange(0.3, 0.9, 0.01) # fixed bin size\n",
    "\n",
    "m, s = stats.norm.fit(data) \n",
    "pdf_g = norm.pdf(bins, m, s) # now get theoretical values in our interval  \n",
    "plt.plot(bins, pdf_g, label='$\\mu=0.5938,\\sigma=0.0689$') # plot it\n",
    "plt.legend(loc='best')\n",
    "plt.xlim([min(data)-0.05, max(data)+0.05])\n",
    "plt.hist(data, bins='auto', alpha=0.5,normed=True)\n",
    "plt.xlabel('$freq$')\n",
    "plt.ylabel('$window$')\n",
    "plt.show()"
   ]
  },
  {
   "cell_type": "code",
   "execution_count": 50,
   "metadata": {},
   "outputs": [
    {
     "data": {
      "text/plain": [
       "(0.5938135485099072, 0.06891099606572364)"
      ]
     },
     "execution_count": 50,
     "metadata": {},
     "output_type": "execute_result"
    }
   ],
   "source": [
    "m,s"
   ]
  },
  {
   "cell_type": "markdown",
   "metadata": {},
   "source": [
    "# Experimento con textos desordenados (introducciones de la revista CELL) \n",
    "### Comparamos la distribucion que hemos descrito en los tres casos anteriores con versiones desordenadas de los textos"
   ]
  },
  {
   "cell_type": "markdown",
   "metadata": {},
   "source": [
    "### corpus de textos desordenados (x cada uno definimos K = 10 versiones)"
   ]
  },
  {
   "cell_type": "code",
   "execution_count": 61,
   "metadata": {},
   "outputs": [],
   "source": [
    "import random\n",
    "introductions=random.sample(introductions,1000)\n",
    "\n",
    "random_corpus={}\n",
    "K=10\n",
    "for i in range(len(introductions)):\n",
    "    random_versions=[]\n",
    "    for j in range(K):\n",
    "        text_random=sent_tokenize(introductions[i])\n",
    "        text_random=random.sample(text_random,len(text_random))\n",
    "        text_random=' '.join(text_random)\n",
    "        random_versions+=[text_random]\n",
    "    random_corpus[i]=random_versions\n",
    "    "
   ]
  },
  {
   "cell_type": "markdown",
   "metadata": {},
   "source": [
    "### partimos con la coherencia como grado de salida promedio\n"
   ]
  },
  {
   "cell_type": "code",
   "execution_count": 62,
   "metadata": {},
   "outputs": [],
   "source": [
    "graphs_random={}\n",
    "for i in range(len(introductions)):\n",
    "    graphs_random[i]=[lexical_graph(text) for text in random_corpus[i]]\n",
    "    "
   ]
  },
  {
   "cell_type": "code",
   "execution_count": 63,
   "metadata": {},
   "outputs": [],
   "source": [
    "cohesion_random={}\n",
    "for i in range(len(introductions)):\n",
    "    cohesion_list=[]\n",
    "    for j in range(K):\n",
    "        cohesion_list+=[coherence(graphs_random[i][j])]\n",
    "    cohesion_random[i]=cohesion_list"
   ]
  },
  {
   "cell_type": "code",
   "execution_count": 64,
   "metadata": {},
   "outputs": [],
   "source": [
    "values_random=[item for sublist in cohesion_random.values() for item in sublist]\n",
    "\n",
    "C=pd.DataFrame(values_random)\n",
    "C.to_csv('cohesive_random.csv')"
   ]
  },
  {
   "cell_type": "code",
   "execution_count": 67,
   "metadata": {},
   "outputs": [
    {
     "data": {
      "image/png": "[encoded data removed]",
      "text/plain": [
       "<matplotlib.figure.Figure at 0x7f3e9cb087b8>"
      ]
     },
     "metadata": {},
     "output_type": "display_data"
    }
   ],
   "source": [
    "import scipy\n",
    "import matplotlib.pyplot as plt\n",
    "from scipy.stats import norm\n",
    "import matplotlib.mlab as mlab\n",
    "from scipy import stats  \n",
    "\n",
    "data = np.array(values_random) \n",
    "\n",
    "t=scipy.stats.mstats.normaltest(data)\n",
    "\n",
    "bins = np.arange(0, 15, 0.1) # fixed bin size\n",
    "\n",
    "m, s = stats.norm.fit(data) \n",
    "pdf_g = norm.pdf(bins, m, s) # now get theoretical values in our interval  \n",
    "plt.plot(bins, pdf_g, label='$\\mu=6.5981,\\sigma=2.2696$') # plot it\n",
    "plt.legend(loc='best')\n",
    "plt.xlim([min(data)-0.05, max(data)+0.05])\n",
    "plt.hist(data, bins='auto', alpha=0.5,normed=True)\n",
    "plt.xlabel('$outdegree$')\n",
    "plt.ylabel('$freq$')\n",
    "plt.show()"
   ]
  },
  {
   "cell_type": "code",
   "execution_count": 66,
   "metadata": {},
   "outputs": [
    {
     "data": {
      "text/plain": [
       "(6.59812028132696, 2.2696612463315837)"
      ]
     },
     "execution_count": 66,
     "metadata": {},
     "output_type": "execute_result"
    }
   ],
   "source": [
    "m,s"
   ]
  },
  {
   "cell_type": "markdown",
   "metadata": {},
   "source": [
    "### seguimos con la coherencia como grado de salida promedio sin threshold\n"
   ]
  },
  {
   "cell_type": "code",
   "execution_count": 68,
   "metadata": {},
   "outputs": [],
   "source": [
    "graphs_random={}\n",
    "for i in range(len(introductions)):\n",
    "    graphs_random[i]=[lexical_graph_without(text) for text in random_corpus[i]]"
   ]
  },
  {
   "cell_type": "code",
   "execution_count": null,
   "metadata": {},
   "outputs": [],
   "source": []
  }
 ],
 "metadata": {
  "kernelspec": {
   "display_name": "Python 3",
   "language": "python",
   "name": "python3"
  },
  "language_info": {
   "codemirror_mode": {
    "name": "ipython",
    "version": 3
   },
   "file_extension": ".py",
   "mimetype": "text/x-python",
   "name": "python",
   "nbconvert_exporter": "python",
   "pygments_lexer": "ipython3",
   "version": "3.6.3"
  }
 },
 "nbformat": 4,
 "nbformat_minor": 2
}
